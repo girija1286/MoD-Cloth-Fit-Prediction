{
  "nbformat": 4,
  "nbformat_minor": 0,
  "metadata": {
    "colab": {
      "provenance": []
    },
    "kernelspec": {
      "name": "python3",
      "display_name": "Python 3"
    },
    "language_info": {
      "name": "python"
    }
  },
  "cells": [
    {
      "cell_type": "code",
      "metadata": {
        "id": "v4hE6L-2Ywax"
      },
      "source": [
        "import pandas as pd\n",
        "import matplotlib.pyplot as plt\n",
        "import seaborn as sns\n",
        "import random\n",
        "\n",
        "from sklearn.preprocessing import LabelEncoder\n",
        "from sklearn.model_selection import train_test_split\n",
        "from sklearn.metrics import accuracy_score\n",
        "from sklearn.linear_model import LogisticRegression\n",
        "from sklearn.tree import DecisionTreeClassifier\n",
        "from sklearn.neighbors import KNeighborsClassifier\n",
        "from sklearn.svm import SVC\n",
        "from sklearn.ensemble import RandomForestClassifier"
      ],
      "execution_count": null,
      "outputs": []
    },
    {
      "cell_type": "markdown",
      "metadata": {
        "id": "-4aAmBezbPa5"
      },
      "source": [
        "**Loading the dataset**"
      ]
    },
    {
      "cell_type": "code",
      "metadata": {
        "id": "r61zaOe17-uQ",
        "colab": {
          "base_uri": "https://localhost:8080/"
        },
        "outputId": "66d7b6e9-9366-4236-f489-9d2189292f00"
      },
      "source": [
        "from google.colab import drive\n",
        "drive.mount('/content/drive')"
      ],
      "execution_count": null,
      "outputs": [
        {
          "output_type": "stream",
          "name": "stdout",
          "text": [
            "Mounted at /content/drive\n"
          ]
        }
      ]
    },
    {
      "cell_type": "code",
      "metadata": {
        "id": "w2tz-eetZrrf",
        "colab": {
          "base_uri": "https://localhost:8080/"
        },
        "outputId": "6366a635-d4e9-4d9c-bd92-7a9e468f3fab"
      },
      "source": [
        "df = pd.read_csv(\"/content/drive/MyDrive/Copy of modcloth_final_data.csv\")"
      ],
      "execution_count": null,
      "outputs": [
        {
          "output_type": "stream",
          "name": "stderr",
          "text": [
            "/usr/local/lib/python3.8/dist-packages/IPython/core/interactiveshell.py:3326: DtypeWarning: Columns (8) have mixed types.Specify dtype option on import or set low_memory=False.\n",
            "  exec(code_obj, self.user_global_ns, self.user_ns)\n"
          ]
        }
      ]
    },
    {
      "cell_type": "code",
      "metadata": {
        "id": "NunUnA9davmB",
        "colab": {
          "base_uri": "https://localhost:8080/"
        },
        "outputId": "9aae61da-c6a8-4ffc-cf7a-10ea5d0b6cfa"
      },
      "source": [
        "df.shape"
      ],
      "execution_count": null,
      "outputs": [
        {
          "output_type": "execute_result",
          "data": {
            "text/plain": [
              "(82790, 16)"
            ]
          },
          "metadata": {},
          "execution_count": 4
        }
      ]
    },
    {
      "cell_type": "code",
      "metadata": {
        "id": "bsZB8JAdazc3",
        "colab": {
          "base_uri": "https://localhost:8080/",
          "height": 206
        },
        "outputId": "8dc72ced-024d-4d09-fbf4-8c49b97f7e47"
      },
      "source": [
        "#making size as last column as we need to predict the size\n",
        "df = df[['item_id','waist','quality','cup size','hips','bra size','category','bust','height','user_name','length','fit','user_id','shoe size','shoe width','size']]\n",
        "df.head()"
      ],
      "execution_count": null,
      "outputs": [
        {
          "output_type": "execute_result",
          "data": {
            "text/plain": [
              "   item_id  waist  quality cup size  hips  bra size category  bust   height  \\\n",
              "0   123373   29.0      5.0        d  38.0      34.0      new  36.0  5ft 6in   \n",
              "1   123373   31.0      3.0        b  30.0      36.0      new   NaN  5ft 2in   \n",
              "2   123373   30.0      2.0        b   NaN      32.0      new   NaN  5ft 7in   \n",
              "3   123373    NaN      5.0     dd/e   NaN       NaN      new   NaN      NaN   \n",
              "4   123373    NaN      5.0        b   NaN      36.0      new   NaN  5ft 2in   \n",
              "\n",
              "          user_name         length    fit  user_id  shoe size shoe width  size  \n",
              "0             Emily     just right  small   991571        NaN        NaN     7  \n",
              "1  sydneybraden2001     just right  small   587883        NaN        NaN    13  \n",
              "2             Ugggh  slightly long  small   395665        9.0        NaN     7  \n",
              "3      alexmeyer626     just right    fit   875643        NaN        NaN    21  \n",
              "4        dberrones1  slightly long  small   944840        NaN        NaN    18  "
            ],
            "text/html": [
              "\n",
              "  <div id=\"df-b8e025c8-cdf5-40e1-9f67-b80ab44a53b4\">\n",
              "    <div class=\"colab-df-container\">\n",
              "      <div>\n",
              "<style scoped>\n",
              "    .dataframe tbody tr th:only-of-type {\n",
              "        vertical-align: middle;\n",
              "    }\n",
              "\n",
              "    .dataframe tbody tr th {\n",
              "        vertical-align: top;\n",
              "    }\n",
              "\n",
              "    .dataframe thead th {\n",
              "        text-align: right;\n",
              "    }\n",
              "</style>\n",
              "<table border=\"1\" class=\"dataframe\">\n",
              "  <thead>\n",
              "    <tr style=\"text-align: right;\">\n",
              "      <th></th>\n",
              "      <th>item_id</th>\n",
              "      <th>waist</th>\n",
              "      <th>quality</th>\n",
              "      <th>cup size</th>\n",
              "      <th>hips</th>\n",
              "      <th>bra size</th>\n",
              "      <th>category</th>\n",
              "      <th>bust</th>\n",
              "      <th>height</th>\n",
              "      <th>user_name</th>\n",
              "      <th>length</th>\n",
              "      <th>fit</th>\n",
              "      <th>user_id</th>\n",
              "      <th>shoe size</th>\n",
              "      <th>shoe width</th>\n",
              "      <th>size</th>\n",
              "    </tr>\n",
              "  </thead>\n",
              "  <tbody>\n",
              "    <tr>\n",
              "      <th>0</th>\n",
              "      <td>123373</td>\n",
              "      <td>29.0</td>\n",
              "      <td>5.0</td>\n",
              "      <td>d</td>\n",
              "      <td>38.0</td>\n",
              "      <td>34.0</td>\n",
              "      <td>new</td>\n",
              "      <td>36.0</td>\n",
              "      <td>5ft 6in</td>\n",
              "      <td>Emily</td>\n",
              "      <td>just right</td>\n",
              "      <td>small</td>\n",
              "      <td>991571</td>\n",
              "      <td>NaN</td>\n",
              "      <td>NaN</td>\n",
              "      <td>7</td>\n",
              "    </tr>\n",
              "    <tr>\n",
              "      <th>1</th>\n",
              "      <td>123373</td>\n",
              "      <td>31.0</td>\n",
              "      <td>3.0</td>\n",
              "      <td>b</td>\n",
              "      <td>30.0</td>\n",
              "      <td>36.0</td>\n",
              "      <td>new</td>\n",
              "      <td>NaN</td>\n",
              "      <td>5ft 2in</td>\n",
              "      <td>sydneybraden2001</td>\n",
              "      <td>just right</td>\n",
              "      <td>small</td>\n",
              "      <td>587883</td>\n",
              "      <td>NaN</td>\n",
              "      <td>NaN</td>\n",
              "      <td>13</td>\n",
              "    </tr>\n",
              "    <tr>\n",
              "      <th>2</th>\n",
              "      <td>123373</td>\n",
              "      <td>30.0</td>\n",
              "      <td>2.0</td>\n",
              "      <td>b</td>\n",
              "      <td>NaN</td>\n",
              "      <td>32.0</td>\n",
              "      <td>new</td>\n",
              "      <td>NaN</td>\n",
              "      <td>5ft 7in</td>\n",
              "      <td>Ugggh</td>\n",
              "      <td>slightly long</td>\n",
              "      <td>small</td>\n",
              "      <td>395665</td>\n",
              "      <td>9.0</td>\n",
              "      <td>NaN</td>\n",
              "      <td>7</td>\n",
              "    </tr>\n",
              "    <tr>\n",
              "      <th>3</th>\n",
              "      <td>123373</td>\n",
              "      <td>NaN</td>\n",
              "      <td>5.0</td>\n",
              "      <td>dd/e</td>\n",
              "      <td>NaN</td>\n",
              "      <td>NaN</td>\n",
              "      <td>new</td>\n",
              "      <td>NaN</td>\n",
              "      <td>NaN</td>\n",
              "      <td>alexmeyer626</td>\n",
              "      <td>just right</td>\n",
              "      <td>fit</td>\n",
              "      <td>875643</td>\n",
              "      <td>NaN</td>\n",
              "      <td>NaN</td>\n",
              "      <td>21</td>\n",
              "    </tr>\n",
              "    <tr>\n",
              "      <th>4</th>\n",
              "      <td>123373</td>\n",
              "      <td>NaN</td>\n",
              "      <td>5.0</td>\n",
              "      <td>b</td>\n",
              "      <td>NaN</td>\n",
              "      <td>36.0</td>\n",
              "      <td>new</td>\n",
              "      <td>NaN</td>\n",
              "      <td>5ft 2in</td>\n",
              "      <td>dberrones1</td>\n",
              "      <td>slightly long</td>\n",
              "      <td>small</td>\n",
              "      <td>944840</td>\n",
              "      <td>NaN</td>\n",
              "      <td>NaN</td>\n",
              "      <td>18</td>\n",
              "    </tr>\n",
              "  </tbody>\n",
              "</table>\n",
              "</div>\n",
              "      <button class=\"colab-df-convert\" onclick=\"convertToInteractive('df-b8e025c8-cdf5-40e1-9f67-b80ab44a53b4')\"\n",
              "              title=\"Convert this dataframe to an interactive table.\"\n",
              "              style=\"display:none;\">\n",
              "        \n",
              "  <svg xmlns=\"http://www.w3.org/2000/svg\" height=\"24px\"viewBox=\"0 0 24 24\"\n",
              "       width=\"24px\">\n",
              "    <path d=\"M0 0h24v24H0V0z\" fill=\"none\"/>\n",
              "    <path d=\"M18.56 5.44l.94 2.06.94-2.06 2.06-.94-2.06-.94-.94-2.06-.94 2.06-2.06.94zm-11 1L8.5 8.5l.94-2.06 2.06-.94-2.06-.94L8.5 2.5l-.94 2.06-2.06.94zm10 10l.94 2.06.94-2.06 2.06-.94-2.06-.94-.94-2.06-.94 2.06-2.06.94z\"/><path d=\"M17.41 7.96l-1.37-1.37c-.4-.4-.92-.59-1.43-.59-.52 0-1.04.2-1.43.59L10.3 9.45l-7.72 7.72c-.78.78-.78 2.05 0 2.83L4 21.41c.39.39.9.59 1.41.59.51 0 1.02-.2 1.41-.59l7.78-7.78 2.81-2.81c.8-.78.8-2.07 0-2.86zM5.41 20L4 18.59l7.72-7.72 1.47 1.35L5.41 20z\"/>\n",
              "  </svg>\n",
              "      </button>\n",
              "      \n",
              "  <style>\n",
              "    .colab-df-container {\n",
              "      display:flex;\n",
              "      flex-wrap:wrap;\n",
              "      gap: 12px;\n",
              "    }\n",
              "\n",
              "    .colab-df-convert {\n",
              "      background-color: #E8F0FE;\n",
              "      border: none;\n",
              "      border-radius: 50%;\n",
              "      cursor: pointer;\n",
              "      display: none;\n",
              "      fill: #1967D2;\n",
              "      height: 32px;\n",
              "      padding: 0 0 0 0;\n",
              "      width: 32px;\n",
              "    }\n",
              "\n",
              "    .colab-df-convert:hover {\n",
              "      background-color: #E2EBFA;\n",
              "      box-shadow: 0px 1px 2px rgba(60, 64, 67, 0.3), 0px 1px 3px 1px rgba(60, 64, 67, 0.15);\n",
              "      fill: #174EA6;\n",
              "    }\n",
              "\n",
              "    [theme=dark] .colab-df-convert {\n",
              "      background-color: #3B4455;\n",
              "      fill: #D2E3FC;\n",
              "    }\n",
              "\n",
              "    [theme=dark] .colab-df-convert:hover {\n",
              "      background-color: #434B5C;\n",
              "      box-shadow: 0px 1px 3px 1px rgba(0, 0, 0, 0.15);\n",
              "      filter: drop-shadow(0px 1px 2px rgba(0, 0, 0, 0.3));\n",
              "      fill: #FFFFFF;\n",
              "    }\n",
              "  </style>\n",
              "\n",
              "      <script>\n",
              "        const buttonEl =\n",
              "          document.querySelector('#df-b8e025c8-cdf5-40e1-9f67-b80ab44a53b4 button.colab-df-convert');\n",
              "        buttonEl.style.display =\n",
              "          google.colab.kernel.accessAllowed ? 'block' : 'none';\n",
              "\n",
              "        async function convertToInteractive(key) {\n",
              "          const element = document.querySelector('#df-b8e025c8-cdf5-40e1-9f67-b80ab44a53b4');\n",
              "          const dataTable =\n",
              "            await google.colab.kernel.invokeFunction('convertToInteractive',\n",
              "                                                     [key], {});\n",
              "          if (!dataTable) return;\n",
              "\n",
              "          const docLinkHtml = 'Like what you see? Visit the ' +\n",
              "            '<a target=\"_blank\" href=https://colab.research.google.com/notebooks/data_table.ipynb>data table notebook</a>'\n",
              "            + ' to learn more about interactive tables.';\n",
              "          element.innerHTML = '';\n",
              "          dataTable['output_type'] = 'display_data';\n",
              "          await google.colab.output.renderOutput(dataTable, element);\n",
              "          const docLink = document.createElement('div');\n",
              "          docLink.innerHTML = docLinkHtml;\n",
              "          element.appendChild(docLink);\n",
              "        }\n",
              "      </script>\n",
              "    </div>\n",
              "  </div>\n",
              "  "
            ]
          },
          "metadata": {},
          "execution_count": 5
        }
      ]
    },
    {
      "cell_type": "code",
      "metadata": {
        "id": "1x9KahHNbg_7",
        "colab": {
          "base_uri": "https://localhost:8080/"
        },
        "outputId": "e31aae54-d877-4da5-96a6-31cc91dc1040"
      },
      "source": [
        "df.info()"
      ],
      "execution_count": null,
      "outputs": [
        {
          "output_type": "stream",
          "name": "stdout",
          "text": [
            "<class 'pandas.core.frame.DataFrame'>\n",
            "RangeIndex: 82790 entries, 0 to 82789\n",
            "Data columns (total 16 columns):\n",
            " #   Column      Non-Null Count  Dtype  \n",
            "---  ------      --------------  -----  \n",
            " 0   item_id     82790 non-null  int64  \n",
            " 1   waist       2882 non-null   float64\n",
            " 2   quality     82722 non-null  float64\n",
            " 3   cup size    76535 non-null  object \n",
            " 4   hips        56064 non-null  float64\n",
            " 5   bra size    76772 non-null  float64\n",
            " 6   category    82790 non-null  object \n",
            " 7   bust        11854 non-null  object \n",
            " 8   height      81683 non-null  object \n",
            " 9   user_name   82790 non-null  object \n",
            " 10  length      82755 non-null  object \n",
            " 11  fit         82790 non-null  object \n",
            " 12  user_id     82790 non-null  int64  \n",
            " 13  shoe size   27915 non-null  float64\n",
            " 14  shoe width  18607 non-null  object \n",
            " 15  size        82790 non-null  int64  \n",
            "dtypes: float64(5), int64(3), object(8)\n",
            "memory usage: 10.1+ MB\n"
          ]
        }
      ]
    },
    {
      "cell_type": "code",
      "metadata": {
        "id": "r3n0SjU3IB1C",
        "colab": {
          "base_uri": "https://localhost:8080/",
          "height": 300
        },
        "outputId": "a5726cc8-4998-4686-aaac-58540e567323"
      },
      "source": [
        "df.describe()"
      ],
      "execution_count": null,
      "outputs": [
        {
          "output_type": "execute_result",
          "data": {
            "text/plain": [
              "             item_id        waist       quality          hips      bra size  \\\n",
              "count   82790.000000  2882.000000  82722.000000  56064.000000  76772.000000   \n",
              "mean   469325.229170    31.319223      3.949058     40.358501     35.972125   \n",
              "std    213999.803314     5.302849      0.992783      5.827166      3.224907   \n",
              "min    123373.000000    20.000000      1.000000     30.000000     28.000000   \n",
              "25%    314980.000000    28.000000      3.000000     36.000000     34.000000   \n",
              "50%    454030.000000    30.000000      4.000000     39.000000     36.000000   \n",
              "75%    658440.000000    34.000000      5.000000     43.000000     38.000000   \n",
              "max    807722.000000    50.000000      5.000000     60.000000     48.000000   \n",
              "\n",
              "             user_id     shoe size          size  \n",
              "count   82790.000000  27915.000000  82790.000000  \n",
              "mean   498849.564718      8.145818     12.661602  \n",
              "std    286356.969459      1.336109      8.271952  \n",
              "min         6.000000      5.000000      0.000000  \n",
              "25%    252897.750000      7.000000      8.000000  \n",
              "50%    497913.500000      8.000000     12.000000  \n",
              "75%    744745.250000      9.000000     15.000000  \n",
              "max    999972.000000     38.000000     38.000000  "
            ],
            "text/html": [
              "\n",
              "  <div id=\"df-c3607025-a9e4-4944-a3fe-864c52c33985\">\n",
              "    <div class=\"colab-df-container\">\n",
              "      <div>\n",
              "<style scoped>\n",
              "    .dataframe tbody tr th:only-of-type {\n",
              "        vertical-align: middle;\n",
              "    }\n",
              "\n",
              "    .dataframe tbody tr th {\n",
              "        vertical-align: top;\n",
              "    }\n",
              "\n",
              "    .dataframe thead th {\n",
              "        text-align: right;\n",
              "    }\n",
              "</style>\n",
              "<table border=\"1\" class=\"dataframe\">\n",
              "  <thead>\n",
              "    <tr style=\"text-align: right;\">\n",
              "      <th></th>\n",
              "      <th>item_id</th>\n",
              "      <th>waist</th>\n",
              "      <th>quality</th>\n",
              "      <th>hips</th>\n",
              "      <th>bra size</th>\n",
              "      <th>user_id</th>\n",
              "      <th>shoe size</th>\n",
              "      <th>size</th>\n",
              "    </tr>\n",
              "  </thead>\n",
              "  <tbody>\n",
              "    <tr>\n",
              "      <th>count</th>\n",
              "      <td>82790.000000</td>\n",
              "      <td>2882.000000</td>\n",
              "      <td>82722.000000</td>\n",
              "      <td>56064.000000</td>\n",
              "      <td>76772.000000</td>\n",
              "      <td>82790.000000</td>\n",
              "      <td>27915.000000</td>\n",
              "      <td>82790.000000</td>\n",
              "    </tr>\n",
              "    <tr>\n",
              "      <th>mean</th>\n",
              "      <td>469325.229170</td>\n",
              "      <td>31.319223</td>\n",
              "      <td>3.949058</td>\n",
              "      <td>40.358501</td>\n",
              "      <td>35.972125</td>\n",
              "      <td>498849.564718</td>\n",
              "      <td>8.145818</td>\n",
              "      <td>12.661602</td>\n",
              "    </tr>\n",
              "    <tr>\n",
              "      <th>std</th>\n",
              "      <td>213999.803314</td>\n",
              "      <td>5.302849</td>\n",
              "      <td>0.992783</td>\n",
              "      <td>5.827166</td>\n",
              "      <td>3.224907</td>\n",
              "      <td>286356.969459</td>\n",
              "      <td>1.336109</td>\n",
              "      <td>8.271952</td>\n",
              "    </tr>\n",
              "    <tr>\n",
              "      <th>min</th>\n",
              "      <td>123373.000000</td>\n",
              "      <td>20.000000</td>\n",
              "      <td>1.000000</td>\n",
              "      <td>30.000000</td>\n",
              "      <td>28.000000</td>\n",
              "      <td>6.000000</td>\n",
              "      <td>5.000000</td>\n",
              "      <td>0.000000</td>\n",
              "    </tr>\n",
              "    <tr>\n",
              "      <th>25%</th>\n",
              "      <td>314980.000000</td>\n",
              "      <td>28.000000</td>\n",
              "      <td>3.000000</td>\n",
              "      <td>36.000000</td>\n",
              "      <td>34.000000</td>\n",
              "      <td>252897.750000</td>\n",
              "      <td>7.000000</td>\n",
              "      <td>8.000000</td>\n",
              "    </tr>\n",
              "    <tr>\n",
              "      <th>50%</th>\n",
              "      <td>454030.000000</td>\n",
              "      <td>30.000000</td>\n",
              "      <td>4.000000</td>\n",
              "      <td>39.000000</td>\n",
              "      <td>36.000000</td>\n",
              "      <td>497913.500000</td>\n",
              "      <td>8.000000</td>\n",
              "      <td>12.000000</td>\n",
              "    </tr>\n",
              "    <tr>\n",
              "      <th>75%</th>\n",
              "      <td>658440.000000</td>\n",
              "      <td>34.000000</td>\n",
              "      <td>5.000000</td>\n",
              "      <td>43.000000</td>\n",
              "      <td>38.000000</td>\n",
              "      <td>744745.250000</td>\n",
              "      <td>9.000000</td>\n",
              "      <td>15.000000</td>\n",
              "    </tr>\n",
              "    <tr>\n",
              "      <th>max</th>\n",
              "      <td>807722.000000</td>\n",
              "      <td>50.000000</td>\n",
              "      <td>5.000000</td>\n",
              "      <td>60.000000</td>\n",
              "      <td>48.000000</td>\n",
              "      <td>999972.000000</td>\n",
              "      <td>38.000000</td>\n",
              "      <td>38.000000</td>\n",
              "    </tr>\n",
              "  </tbody>\n",
              "</table>\n",
              "</div>\n",
              "      <button class=\"colab-df-convert\" onclick=\"convertToInteractive('df-c3607025-a9e4-4944-a3fe-864c52c33985')\"\n",
              "              title=\"Convert this dataframe to an interactive table.\"\n",
              "              style=\"display:none;\">\n",
              "        \n",
              "  <svg xmlns=\"http://www.w3.org/2000/svg\" height=\"24px\"viewBox=\"0 0 24 24\"\n",
              "       width=\"24px\">\n",
              "    <path d=\"M0 0h24v24H0V0z\" fill=\"none\"/>\n",
              "    <path d=\"M18.56 5.44l.94 2.06.94-2.06 2.06-.94-2.06-.94-.94-2.06-.94 2.06-2.06.94zm-11 1L8.5 8.5l.94-2.06 2.06-.94-2.06-.94L8.5 2.5l-.94 2.06-2.06.94zm10 10l.94 2.06.94-2.06 2.06-.94-2.06-.94-.94-2.06-.94 2.06-2.06.94z\"/><path d=\"M17.41 7.96l-1.37-1.37c-.4-.4-.92-.59-1.43-.59-.52 0-1.04.2-1.43.59L10.3 9.45l-7.72 7.72c-.78.78-.78 2.05 0 2.83L4 21.41c.39.39.9.59 1.41.59.51 0 1.02-.2 1.41-.59l7.78-7.78 2.81-2.81c.8-.78.8-2.07 0-2.86zM5.41 20L4 18.59l7.72-7.72 1.47 1.35L5.41 20z\"/>\n",
              "  </svg>\n",
              "      </button>\n",
              "      \n",
              "  <style>\n",
              "    .colab-df-container {\n",
              "      display:flex;\n",
              "      flex-wrap:wrap;\n",
              "      gap: 12px;\n",
              "    }\n",
              "\n",
              "    .colab-df-convert {\n",
              "      background-color: #E8F0FE;\n",
              "      border: none;\n",
              "      border-radius: 50%;\n",
              "      cursor: pointer;\n",
              "      display: none;\n",
              "      fill: #1967D2;\n",
              "      height: 32px;\n",
              "      padding: 0 0 0 0;\n",
              "      width: 32px;\n",
              "    }\n",
              "\n",
              "    .colab-df-convert:hover {\n",
              "      background-color: #E2EBFA;\n",
              "      box-shadow: 0px 1px 2px rgba(60, 64, 67, 0.3), 0px 1px 3px 1px rgba(60, 64, 67, 0.15);\n",
              "      fill: #174EA6;\n",
              "    }\n",
              "\n",
              "    [theme=dark] .colab-df-convert {\n",
              "      background-color: #3B4455;\n",
              "      fill: #D2E3FC;\n",
              "    }\n",
              "\n",
              "    [theme=dark] .colab-df-convert:hover {\n",
              "      background-color: #434B5C;\n",
              "      box-shadow: 0px 1px 3px 1px rgba(0, 0, 0, 0.15);\n",
              "      filter: drop-shadow(0px 1px 2px rgba(0, 0, 0, 0.3));\n",
              "      fill: #FFFFFF;\n",
              "    }\n",
              "  </style>\n",
              "\n",
              "      <script>\n",
              "        const buttonEl =\n",
              "          document.querySelector('#df-c3607025-a9e4-4944-a3fe-864c52c33985 button.colab-df-convert');\n",
              "        buttonEl.style.display =\n",
              "          google.colab.kernel.accessAllowed ? 'block' : 'none';\n",
              "\n",
              "        async function convertToInteractive(key) {\n",
              "          const element = document.querySelector('#df-c3607025-a9e4-4944-a3fe-864c52c33985');\n",
              "          const dataTable =\n",
              "            await google.colab.kernel.invokeFunction('convertToInteractive',\n",
              "                                                     [key], {});\n",
              "          if (!dataTable) return;\n",
              "\n",
              "          const docLinkHtml = 'Like what you see? Visit the ' +\n",
              "            '<a target=\"_blank\" href=https://colab.research.google.com/notebooks/data_table.ipynb>data table notebook</a>'\n",
              "            + ' to learn more about interactive tables.';\n",
              "          element.innerHTML = '';\n",
              "          dataTable['output_type'] = 'display_data';\n",
              "          await google.colab.output.renderOutput(dataTable, element);\n",
              "          const docLink = document.createElement('div');\n",
              "          docLink.innerHTML = docLinkHtml;\n",
              "          element.appendChild(docLink);\n",
              "        }\n",
              "      </script>\n",
              "    </div>\n",
              "  </div>\n",
              "  "
            ]
          },
          "metadata": {},
          "execution_count": 7
        }
      ]
    },
    {
      "cell_type": "code",
      "metadata": {
        "id": "6WdmZWEGdnUl"
      },
      "source": [
        "df[['foot','inches']] = df['height'].str.split(expand = True)\n",
        "df['foot'] = df['foot'].str.extract('(\\d*)').astype(float) #Match 0 or more digits(\\d*)\n",
        "df['inches'] = df['inches'].str.extract('(\\d*)').astype(float)\n",
        "#Converting height into cm\n",
        "df['height'] = df['foot'].astype(float) * 30.48 + df['inches'].astype(float)*2.45\n",
        "del df['foot']\n",
        "del df['inches']"
      ],
      "execution_count": null,
      "outputs": []
    },
    {
      "cell_type": "code",
      "metadata": {
        "id": "sV3xaYlkiF0i",
        "colab": {
          "base_uri": "https://localhost:8080/",
          "height": 206
        },
        "outputId": "a95a7f3c-1c3c-4fa5-e9f8-3a0d7616d506"
      },
      "source": [
        "df.head()"
      ],
      "execution_count": null,
      "outputs": [
        {
          "output_type": "execute_result",
          "data": {
            "text/plain": [
              "   item_id  waist  quality cup size  hips  bra size category  bust  height  \\\n",
              "0   123373   29.0      5.0        d  38.0      34.0      new  36.0  167.10   \n",
              "1   123373   31.0      3.0        b  30.0      36.0      new   NaN  157.30   \n",
              "2   123373   30.0      2.0        b   NaN      32.0      new   NaN  169.55   \n",
              "3   123373    NaN      5.0     dd/e   NaN       NaN      new   NaN     NaN   \n",
              "4   123373    NaN      5.0        b   NaN      36.0      new   NaN  157.30   \n",
              "\n",
              "          user_name         length    fit  user_id  shoe size shoe width  size  \n",
              "0             Emily     just right  small   991571        NaN        NaN     7  \n",
              "1  sydneybraden2001     just right  small   587883        NaN        NaN    13  \n",
              "2             Ugggh  slightly long  small   395665        9.0        NaN     7  \n",
              "3      alexmeyer626     just right    fit   875643        NaN        NaN    21  \n",
              "4        dberrones1  slightly long  small   944840        NaN        NaN    18  "
            ],
            "text/html": [
              "\n",
              "  <div id=\"df-cfbefc9e-78e3-435d-87f7-0b91cd80d230\">\n",
              "    <div class=\"colab-df-container\">\n",
              "      <div>\n",
              "<style scoped>\n",
              "    .dataframe tbody tr th:only-of-type {\n",
              "        vertical-align: middle;\n",
              "    }\n",
              "\n",
              "    .dataframe tbody tr th {\n",
              "        vertical-align: top;\n",
              "    }\n",
              "\n",
              "    .dataframe thead th {\n",
              "        text-align: right;\n",
              "    }\n",
              "</style>\n",
              "<table border=\"1\" class=\"dataframe\">\n",
              "  <thead>\n",
              "    <tr style=\"text-align: right;\">\n",
              "      <th></th>\n",
              "      <th>item_id</th>\n",
              "      <th>waist</th>\n",
              "      <th>quality</th>\n",
              "      <th>cup size</th>\n",
              "      <th>hips</th>\n",
              "      <th>bra size</th>\n",
              "      <th>category</th>\n",
              "      <th>bust</th>\n",
              "      <th>height</th>\n",
              "      <th>user_name</th>\n",
              "      <th>length</th>\n",
              "      <th>fit</th>\n",
              "      <th>user_id</th>\n",
              "      <th>shoe size</th>\n",
              "      <th>shoe width</th>\n",
              "      <th>size</th>\n",
              "    </tr>\n",
              "  </thead>\n",
              "  <tbody>\n",
              "    <tr>\n",
              "      <th>0</th>\n",
              "      <td>123373</td>\n",
              "      <td>29.0</td>\n",
              "      <td>5.0</td>\n",
              "      <td>d</td>\n",
              "      <td>38.0</td>\n",
              "      <td>34.0</td>\n",
              "      <td>new</td>\n",
              "      <td>36.0</td>\n",
              "      <td>167.10</td>\n",
              "      <td>Emily</td>\n",
              "      <td>just right</td>\n",
              "      <td>small</td>\n",
              "      <td>991571</td>\n",
              "      <td>NaN</td>\n",
              "      <td>NaN</td>\n",
              "      <td>7</td>\n",
              "    </tr>\n",
              "    <tr>\n",
              "      <th>1</th>\n",
              "      <td>123373</td>\n",
              "      <td>31.0</td>\n",
              "      <td>3.0</td>\n",
              "      <td>b</td>\n",
              "      <td>30.0</td>\n",
              "      <td>36.0</td>\n",
              "      <td>new</td>\n",
              "      <td>NaN</td>\n",
              "      <td>157.30</td>\n",
              "      <td>sydneybraden2001</td>\n",
              "      <td>just right</td>\n",
              "      <td>small</td>\n",
              "      <td>587883</td>\n",
              "      <td>NaN</td>\n",
              "      <td>NaN</td>\n",
              "      <td>13</td>\n",
              "    </tr>\n",
              "    <tr>\n",
              "      <th>2</th>\n",
              "      <td>123373</td>\n",
              "      <td>30.0</td>\n",
              "      <td>2.0</td>\n",
              "      <td>b</td>\n",
              "      <td>NaN</td>\n",
              "      <td>32.0</td>\n",
              "      <td>new</td>\n",
              "      <td>NaN</td>\n",
              "      <td>169.55</td>\n",
              "      <td>Ugggh</td>\n",
              "      <td>slightly long</td>\n",
              "      <td>small</td>\n",
              "      <td>395665</td>\n",
              "      <td>9.0</td>\n",
              "      <td>NaN</td>\n",
              "      <td>7</td>\n",
              "    </tr>\n",
              "    <tr>\n",
              "      <th>3</th>\n",
              "      <td>123373</td>\n",
              "      <td>NaN</td>\n",
              "      <td>5.0</td>\n",
              "      <td>dd/e</td>\n",
              "      <td>NaN</td>\n",
              "      <td>NaN</td>\n",
              "      <td>new</td>\n",
              "      <td>NaN</td>\n",
              "      <td>NaN</td>\n",
              "      <td>alexmeyer626</td>\n",
              "      <td>just right</td>\n",
              "      <td>fit</td>\n",
              "      <td>875643</td>\n",
              "      <td>NaN</td>\n",
              "      <td>NaN</td>\n",
              "      <td>21</td>\n",
              "    </tr>\n",
              "    <tr>\n",
              "      <th>4</th>\n",
              "      <td>123373</td>\n",
              "      <td>NaN</td>\n",
              "      <td>5.0</td>\n",
              "      <td>b</td>\n",
              "      <td>NaN</td>\n",
              "      <td>36.0</td>\n",
              "      <td>new</td>\n",
              "      <td>NaN</td>\n",
              "      <td>157.30</td>\n",
              "      <td>dberrones1</td>\n",
              "      <td>slightly long</td>\n",
              "      <td>small</td>\n",
              "      <td>944840</td>\n",
              "      <td>NaN</td>\n",
              "      <td>NaN</td>\n",
              "      <td>18</td>\n",
              "    </tr>\n",
              "  </tbody>\n",
              "</table>\n",
              "</div>\n",
              "      <button class=\"colab-df-convert\" onclick=\"convertToInteractive('df-cfbefc9e-78e3-435d-87f7-0b91cd80d230')\"\n",
              "              title=\"Convert this dataframe to an interactive table.\"\n",
              "              style=\"display:none;\">\n",
              "        \n",
              "  <svg xmlns=\"http://www.w3.org/2000/svg\" height=\"24px\"viewBox=\"0 0 24 24\"\n",
              "       width=\"24px\">\n",
              "    <path d=\"M0 0h24v24H0V0z\" fill=\"none\"/>\n",
              "    <path d=\"M18.56 5.44l.94 2.06.94-2.06 2.06-.94-2.06-.94-.94-2.06-.94 2.06-2.06.94zm-11 1L8.5 8.5l.94-2.06 2.06-.94-2.06-.94L8.5 2.5l-.94 2.06-2.06.94zm10 10l.94 2.06.94-2.06 2.06-.94-2.06-.94-.94-2.06-.94 2.06-2.06.94z\"/><path d=\"M17.41 7.96l-1.37-1.37c-.4-.4-.92-.59-1.43-.59-.52 0-1.04.2-1.43.59L10.3 9.45l-7.72 7.72c-.78.78-.78 2.05 0 2.83L4 21.41c.39.39.9.59 1.41.59.51 0 1.02-.2 1.41-.59l7.78-7.78 2.81-2.81c.8-.78.8-2.07 0-2.86zM5.41 20L4 18.59l7.72-7.72 1.47 1.35L5.41 20z\"/>\n",
              "  </svg>\n",
              "      </button>\n",
              "      \n",
              "  <style>\n",
              "    .colab-df-container {\n",
              "      display:flex;\n",
              "      flex-wrap:wrap;\n",
              "      gap: 12px;\n",
              "    }\n",
              "\n",
              "    .colab-df-convert {\n",
              "      background-color: #E8F0FE;\n",
              "      border: none;\n",
              "      border-radius: 50%;\n",
              "      cursor: pointer;\n",
              "      display: none;\n",
              "      fill: #1967D2;\n",
              "      height: 32px;\n",
              "      padding: 0 0 0 0;\n",
              "      width: 32px;\n",
              "    }\n",
              "\n",
              "    .colab-df-convert:hover {\n",
              "      background-color: #E2EBFA;\n",
              "      box-shadow: 0px 1px 2px rgba(60, 64, 67, 0.3), 0px 1px 3px 1px rgba(60, 64, 67, 0.15);\n",
              "      fill: #174EA6;\n",
              "    }\n",
              "\n",
              "    [theme=dark] .colab-df-convert {\n",
              "      background-color: #3B4455;\n",
              "      fill: #D2E3FC;\n",
              "    }\n",
              "\n",
              "    [theme=dark] .colab-df-convert:hover {\n",
              "      background-color: #434B5C;\n",
              "      box-shadow: 0px 1px 3px 1px rgba(0, 0, 0, 0.15);\n",
              "      filter: drop-shadow(0px 1px 2px rgba(0, 0, 0, 0.3));\n",
              "      fill: #FFFFFF;\n",
              "    }\n",
              "  </style>\n",
              "\n",
              "      <script>\n",
              "        const buttonEl =\n",
              "          document.querySelector('#df-cfbefc9e-78e3-435d-87f7-0b91cd80d230 button.colab-df-convert');\n",
              "        buttonEl.style.display =\n",
              "          google.colab.kernel.accessAllowed ? 'block' : 'none';\n",
              "\n",
              "        async function convertToInteractive(key) {\n",
              "          const element = document.querySelector('#df-cfbefc9e-78e3-435d-87f7-0b91cd80d230');\n",
              "          const dataTable =\n",
              "            await google.colab.kernel.invokeFunction('convertToInteractive',\n",
              "                                                     [key], {});\n",
              "          if (!dataTable) return;\n",
              "\n",
              "          const docLinkHtml = 'Like what you see? Visit the ' +\n",
              "            '<a target=\"_blank\" href=https://colab.research.google.com/notebooks/data_table.ipynb>data table notebook</a>'\n",
              "            + ' to learn more about interactive tables.';\n",
              "          element.innerHTML = '';\n",
              "          dataTable['output_type'] = 'display_data';\n",
              "          await google.colab.output.renderOutput(dataTable, element);\n",
              "          const docLink = document.createElement('div');\n",
              "          docLink.innerHTML = docLinkHtml;\n",
              "          element.appendChild(docLink);\n",
              "        }\n",
              "      </script>\n",
              "    </div>\n",
              "  </div>\n",
              "  "
            ]
          },
          "metadata": {},
          "execution_count": 9
        }
      ]
    },
    {
      "cell_type": "code",
      "metadata": {
        "id": "QFEihgzGbg8h",
        "colab": {
          "base_uri": "https://localhost:8080/",
          "height": 551
        },
        "outputId": "dc1a84a0-26ba-4d73-dd3b-06c9f5c0c042"
      },
      "source": [
        "null_values = pd.DataFrame({\"missing_values\" : df.isnull().sum(), 'Percentage': (df.isnull().sum()/82790)*100})\n",
        "null_values"
      ],
      "execution_count": null,
      "outputs": [
        {
          "output_type": "execute_result",
          "data": {
            "text/plain": [
              "            missing_values  Percentage\n",
              "item_id                  0    0.000000\n",
              "waist                79908   96.518903\n",
              "quality                 68    0.082136\n",
              "cup size              6255    7.555260\n",
              "hips                 26726   32.281677\n",
              "bra size              6018    7.268994\n",
              "category                 0    0.000000\n",
              "bust                 70936   85.681846\n",
              "height                4005    4.837541\n",
              "user_name                0    0.000000\n",
              "length                  35    0.042276\n",
              "fit                      0    0.000000\n",
              "user_id                  0    0.000000\n",
              "shoe size            54875   66.282160\n",
              "shoe width           64183   77.525063\n",
              "size                     0    0.000000"
            ],
            "text/html": [
              "\n",
              "  <div id=\"df-e7f949f1-862e-4d62-a650-6b65493e8cc2\">\n",
              "    <div class=\"colab-df-container\">\n",
              "      <div>\n",
              "<style scoped>\n",
              "    .dataframe tbody tr th:only-of-type {\n",
              "        vertical-align: middle;\n",
              "    }\n",
              "\n",
              "    .dataframe tbody tr th {\n",
              "        vertical-align: top;\n",
              "    }\n",
              "\n",
              "    .dataframe thead th {\n",
              "        text-align: right;\n",
              "    }\n",
              "</style>\n",
              "<table border=\"1\" class=\"dataframe\">\n",
              "  <thead>\n",
              "    <tr style=\"text-align: right;\">\n",
              "      <th></th>\n",
              "      <th>missing_values</th>\n",
              "      <th>Percentage</th>\n",
              "    </tr>\n",
              "  </thead>\n",
              "  <tbody>\n",
              "    <tr>\n",
              "      <th>item_id</th>\n",
              "      <td>0</td>\n",
              "      <td>0.000000</td>\n",
              "    </tr>\n",
              "    <tr>\n",
              "      <th>waist</th>\n",
              "      <td>79908</td>\n",
              "      <td>96.518903</td>\n",
              "    </tr>\n",
              "    <tr>\n",
              "      <th>quality</th>\n",
              "      <td>68</td>\n",
              "      <td>0.082136</td>\n",
              "    </tr>\n",
              "    <tr>\n",
              "      <th>cup size</th>\n",
              "      <td>6255</td>\n",
              "      <td>7.555260</td>\n",
              "    </tr>\n",
              "    <tr>\n",
              "      <th>hips</th>\n",
              "      <td>26726</td>\n",
              "      <td>32.281677</td>\n",
              "    </tr>\n",
              "    <tr>\n",
              "      <th>bra size</th>\n",
              "      <td>6018</td>\n",
              "      <td>7.268994</td>\n",
              "    </tr>\n",
              "    <tr>\n",
              "      <th>category</th>\n",
              "      <td>0</td>\n",
              "      <td>0.000000</td>\n",
              "    </tr>\n",
              "    <tr>\n",
              "      <th>bust</th>\n",
              "      <td>70936</td>\n",
              "      <td>85.681846</td>\n",
              "    </tr>\n",
              "    <tr>\n",
              "      <th>height</th>\n",
              "      <td>4005</td>\n",
              "      <td>4.837541</td>\n",
              "    </tr>\n",
              "    <tr>\n",
              "      <th>user_name</th>\n",
              "      <td>0</td>\n",
              "      <td>0.000000</td>\n",
              "    </tr>\n",
              "    <tr>\n",
              "      <th>length</th>\n",
              "      <td>35</td>\n",
              "      <td>0.042276</td>\n",
              "    </tr>\n",
              "    <tr>\n",
              "      <th>fit</th>\n",
              "      <td>0</td>\n",
              "      <td>0.000000</td>\n",
              "    </tr>\n",
              "    <tr>\n",
              "      <th>user_id</th>\n",
              "      <td>0</td>\n",
              "      <td>0.000000</td>\n",
              "    </tr>\n",
              "    <tr>\n",
              "      <th>shoe size</th>\n",
              "      <td>54875</td>\n",
              "      <td>66.282160</td>\n",
              "    </tr>\n",
              "    <tr>\n",
              "      <th>shoe width</th>\n",
              "      <td>64183</td>\n",
              "      <td>77.525063</td>\n",
              "    </tr>\n",
              "    <tr>\n",
              "      <th>size</th>\n",
              "      <td>0</td>\n",
              "      <td>0.000000</td>\n",
              "    </tr>\n",
              "  </tbody>\n",
              "</table>\n",
              "</div>\n",
              "      <button class=\"colab-df-convert\" onclick=\"convertToInteractive('df-e7f949f1-862e-4d62-a650-6b65493e8cc2')\"\n",
              "              title=\"Convert this dataframe to an interactive table.\"\n",
              "              style=\"display:none;\">\n",
              "        \n",
              "  <svg xmlns=\"http://www.w3.org/2000/svg\" height=\"24px\"viewBox=\"0 0 24 24\"\n",
              "       width=\"24px\">\n",
              "    <path d=\"M0 0h24v24H0V0z\" fill=\"none\"/>\n",
              "    <path d=\"M18.56 5.44l.94 2.06.94-2.06 2.06-.94-2.06-.94-.94-2.06-.94 2.06-2.06.94zm-11 1L8.5 8.5l.94-2.06 2.06-.94-2.06-.94L8.5 2.5l-.94 2.06-2.06.94zm10 10l.94 2.06.94-2.06 2.06-.94-2.06-.94-.94-2.06-.94 2.06-2.06.94z\"/><path d=\"M17.41 7.96l-1.37-1.37c-.4-.4-.92-.59-1.43-.59-.52 0-1.04.2-1.43.59L10.3 9.45l-7.72 7.72c-.78.78-.78 2.05 0 2.83L4 21.41c.39.39.9.59 1.41.59.51 0 1.02-.2 1.41-.59l7.78-7.78 2.81-2.81c.8-.78.8-2.07 0-2.86zM5.41 20L4 18.59l7.72-7.72 1.47 1.35L5.41 20z\"/>\n",
              "  </svg>\n",
              "      </button>\n",
              "      \n",
              "  <style>\n",
              "    .colab-df-container {\n",
              "      display:flex;\n",
              "      flex-wrap:wrap;\n",
              "      gap: 12px;\n",
              "    }\n",
              "\n",
              "    .colab-df-convert {\n",
              "      background-color: #E8F0FE;\n",
              "      border: none;\n",
              "      border-radius: 50%;\n",
              "      cursor: pointer;\n",
              "      display: none;\n",
              "      fill: #1967D2;\n",
              "      height: 32px;\n",
              "      padding: 0 0 0 0;\n",
              "      width: 32px;\n",
              "    }\n",
              "\n",
              "    .colab-df-convert:hover {\n",
              "      background-color: #E2EBFA;\n",
              "      box-shadow: 0px 1px 2px rgba(60, 64, 67, 0.3), 0px 1px 3px 1px rgba(60, 64, 67, 0.15);\n",
              "      fill: #174EA6;\n",
              "    }\n",
              "\n",
              "    [theme=dark] .colab-df-convert {\n",
              "      background-color: #3B4455;\n",
              "      fill: #D2E3FC;\n",
              "    }\n",
              "\n",
              "    [theme=dark] .colab-df-convert:hover {\n",
              "      background-color: #434B5C;\n",
              "      box-shadow: 0px 1px 3px 1px rgba(0, 0, 0, 0.15);\n",
              "      filter: drop-shadow(0px 1px 2px rgba(0, 0, 0, 0.3));\n",
              "      fill: #FFFFFF;\n",
              "    }\n",
              "  </style>\n",
              "\n",
              "      <script>\n",
              "        const buttonEl =\n",
              "          document.querySelector('#df-e7f949f1-862e-4d62-a650-6b65493e8cc2 button.colab-df-convert');\n",
              "        buttonEl.style.display =\n",
              "          google.colab.kernel.accessAllowed ? 'block' : 'none';\n",
              "\n",
              "        async function convertToInteractive(key) {\n",
              "          const element = document.querySelector('#df-e7f949f1-862e-4d62-a650-6b65493e8cc2');\n",
              "          const dataTable =\n",
              "            await google.colab.kernel.invokeFunction('convertToInteractive',\n",
              "                                                     [key], {});\n",
              "          if (!dataTable) return;\n",
              "\n",
              "          const docLinkHtml = 'Like what you see? Visit the ' +\n",
              "            '<a target=\"_blank\" href=https://colab.research.google.com/notebooks/data_table.ipynb>data table notebook</a>'\n",
              "            + ' to learn more about interactive tables.';\n",
              "          element.innerHTML = '';\n",
              "          dataTable['output_type'] = 'display_data';\n",
              "          await google.colab.output.renderOutput(dataTable, element);\n",
              "          const docLink = document.createElement('div');\n",
              "          docLink.innerHTML = docLinkHtml;\n",
              "          element.appendChild(docLink);\n",
              "        }\n",
              "      </script>\n",
              "    </div>\n",
              "  </div>\n",
              "  "
            ]
          },
          "metadata": {},
          "execution_count": 10
        }
      ]
    },
    {
      "cell_type": "code",
      "metadata": {
        "id": "kA9myqDdXc7t",
        "colab": {
          "base_uri": "https://localhost:8080/",
          "height": 433
        },
        "outputId": "82a0d4b5-73f3-42bb-d079-63d3fc341e06"
      },
      "source": [
        "sns.countplot(x='height', data=df)\n",
        "plt.xticks(rotation=90)"
      ],
      "execution_count": null,
      "outputs": [
        {
          "output_type": "execute_result",
          "data": {
            "text/plain": [
              "(array([ 0,  1,  2,  3,  4,  5,  6,  7,  8,  9, 10, 11, 12, 13, 14, 15, 16,\n",
              "        17, 18, 19, 20, 21, 22, 23, 24, 25, 26, 27, 28, 29, 30, 31, 32, 33,\n",
              "        34, 35, 36, 37]), <a list of 38 Text major ticklabel objects>)"
            ]
          },
          "metadata": {},
          "execution_count": 11
        },
        {
          "output_type": "display_data",
          "data": {
            "text/plain": [
              "<Figure size 432x288 with 1 Axes>"
            ],
            "image/png": "[encoded data removed]"
          },
          "metadata": {
            "needs_background": "light"
          }
        }
      ]
    },
    {
      "cell_type": "code",
      "metadata": {
        "id": "bjd2rsX6WiIg",
        "colab": {
          "base_uri": "https://localhost:8080/",
          "height": 606
        },
        "outputId": "29e63d93-af54-4880-bd69-5795521677d4"
      },
      "source": [
        "plt.figure(figsize=(20,10))\n",
        "sns.barplot(data=df, x ='shoe size' , y = 'height')\n",
        "plt.xlabel('shoe size')\n",
        "plt.ylabel('height')\n",
        "plt.show()"
      ],
      "execution_count": null,
      "outputs": [
        {
          "output_type": "display_data",
          "data": {
            "text/plain": [
              "<Figure size 1440x720 with 1 Axes>"
            ],
            "image/png": "[encoded data removed]"
          },
          "metadata": {
            "needs_background": "light"
          }
        }
      ]
    },
    {
      "cell_type": "code",
      "metadata": {
        "id": "ZY0rj5KVfbKM"
      },
      "source": [
        "df.rename(columns={'shoe size': 'shoe_size'}, inplace=True)\n",
        "df.rename(columns={'shoe width': 'shoe_width'}, inplace=True)"
      ],
      "execution_count": null,
      "outputs": []
    },
    {
      "cell_type": "code",
      "metadata": {
        "id": "siAV2iE0ndDe",
        "colab": {
          "base_uri": "https://localhost:8080/",
          "height": 81
        },
        "outputId": "fcd3a38f-5778-4ee0-cdde-4b9b9d37b3de"
      },
      "source": [
        "df[df['shoe_size'] ==38]"
      ],
      "execution_count": null,
      "outputs": [
        {
          "output_type": "execute_result",
          "data": {
            "text/plain": [
              "       item_id  waist  quality cup size  hips  bra size category   bust  \\\n",
              "37313   416942   35.0      5.0        d  46.0      36.0      new  37-39   \n",
              "\n",
              "       height   user_name      length  fit  user_id  shoe_size shoe_width  \\\n",
              "37313  164.65  Catslittle  just right  fit   237498       38.0    average   \n",
              "\n",
              "       size  \n",
              "37313    12  "
            ],
            "text/html": [
              "\n",
              "  <div id=\"df-0c81d6fc-eea4-4b5d-a9c1-b14d8a5184f5\">\n",
              "    <div class=\"colab-df-container\">\n",
              "      <div>\n",
              "<style scoped>\n",
              "    .dataframe tbody tr th:only-of-type {\n",
              "        vertical-align: middle;\n",
              "    }\n",
              "\n",
              "    .dataframe tbody tr th {\n",
              "        vertical-align: top;\n",
              "    }\n",
              "\n",
              "    .dataframe thead th {\n",
              "        text-align: right;\n",
              "    }\n",
              "</style>\n",
              "<table border=\"1\" class=\"dataframe\">\n",
              "  <thead>\n",
              "    <tr style=\"text-align: right;\">\n",
              "      <th></th>\n",
              "      <th>item_id</th>\n",
              "      <th>waist</th>\n",
              "      <th>quality</th>\n",
              "      <th>cup size</th>\n",
              "      <th>hips</th>\n",
              "      <th>bra size</th>\n",
              "      <th>category</th>\n",
              "      <th>bust</th>\n",
              "      <th>height</th>\n",
              "      <th>user_name</th>\n",
              "      <th>length</th>\n",
              "      <th>fit</th>\n",
              "      <th>user_id</th>\n",
              "      <th>shoe_size</th>\n",
              "      <th>shoe_width</th>\n",
              "      <th>size</th>\n",
              "    </tr>\n",
              "  </thead>\n",
              "  <tbody>\n",
              "    <tr>\n",
              "      <th>37313</th>\n",
              "      <td>416942</td>\n",
              "      <td>35.0</td>\n",
              "      <td>5.0</td>\n",
              "      <td>d</td>\n",
              "      <td>46.0</td>\n",
              "      <td>36.0</td>\n",
              "      <td>new</td>\n",
              "      <td>37-39</td>\n",
              "      <td>164.65</td>\n",
              "      <td>Catslittle</td>\n",
              "      <td>just right</td>\n",
              "      <td>fit</td>\n",
              "      <td>237498</td>\n",
              "      <td>38.0</td>\n",
              "      <td>average</td>\n",
              "      <td>12</td>\n",
              "    </tr>\n",
              "  </tbody>\n",
              "</table>\n",
              "</div>\n",
              "      <button class=\"colab-df-convert\" onclick=\"convertToInteractive('df-0c81d6fc-eea4-4b5d-a9c1-b14d8a5184f5')\"\n",
              "              title=\"Convert this dataframe to an interactive table.\"\n",
              "              style=\"display:none;\">\n",
              "        \n",
              "  <svg xmlns=\"http://www.w3.org/2000/svg\" height=\"24px\"viewBox=\"0 0 24 24\"\n",
              "       width=\"24px\">\n",
              "    <path d=\"M0 0h24v24H0V0z\" fill=\"none\"/>\n",
              "    <path d=\"M18.56 5.44l.94 2.06.94-2.06 2.06-.94-2.06-.94-.94-2.06-.94 2.06-2.06.94zm-11 1L8.5 8.5l.94-2.06 2.06-.94-2.06-.94L8.5 2.5l-.94 2.06-2.06.94zm10 10l.94 2.06.94-2.06 2.06-.94-2.06-.94-.94-2.06-.94 2.06-2.06.94z\"/><path d=\"M17.41 7.96l-1.37-1.37c-.4-.4-.92-.59-1.43-.59-.52 0-1.04.2-1.43.59L10.3 9.45l-7.72 7.72c-.78.78-.78 2.05 0 2.83L4 21.41c.39.39.9.59 1.41.59.51 0 1.02-.2 1.41-.59l7.78-7.78 2.81-2.81c.8-.78.8-2.07 0-2.86zM5.41 20L4 18.59l7.72-7.72 1.47 1.35L5.41 20z\"/>\n",
              "  </svg>\n",
              "      </button>\n",
              "      \n",
              "  <style>\n",
              "    .colab-df-container {\n",
              "      display:flex;\n",
              "      flex-wrap:wrap;\n",
              "      gap: 12px;\n",
              "    }\n",
              "\n",
              "    .colab-df-convert {\n",
              "      background-color: #E8F0FE;\n",
              "      border: none;\n",
              "      border-radius: 50%;\n",
              "      cursor: pointer;\n",
              "      display: none;\n",
              "      fill: #1967D2;\n",
              "      height: 32px;\n",
              "      padding: 0 0 0 0;\n",
              "      width: 32px;\n",
              "    }\n",
              "\n",
              "    .colab-df-convert:hover {\n",
              "      background-color: #E2EBFA;\n",
              "      box-shadow: 0px 1px 2px rgba(60, 64, 67, 0.3), 0px 1px 3px 1px rgba(60, 64, 67, 0.15);\n",
              "      fill: #174EA6;\n",
              "    }\n",
              "\n",
              "    [theme=dark] .colab-df-convert {\n",
              "      background-color: #3B4455;\n",
              "      fill: #D2E3FC;\n",
              "    }\n",
              "\n",
              "    [theme=dark] .colab-df-convert:hover {\n",
              "      background-color: #434B5C;\n",
              "      box-shadow: 0px 1px 3px 1px rgba(0, 0, 0, 0.15);\n",
              "      filter: drop-shadow(0px 1px 2px rgba(0, 0, 0, 0.3));\n",
              "      fill: #FFFFFF;\n",
              "    }\n",
              "  </style>\n",
              "\n",
              "      <script>\n",
              "        const buttonEl =\n",
              "          document.querySelector('#df-0c81d6fc-eea4-4b5d-a9c1-b14d8a5184f5 button.colab-df-convert');\n",
              "        buttonEl.style.display =\n",
              "          google.colab.kernel.accessAllowed ? 'block' : 'none';\n",
              "\n",
              "        async function convertToInteractive(key) {\n",
              "          const element = document.querySelector('#df-0c81d6fc-eea4-4b5d-a9c1-b14d8a5184f5');\n",
              "          const dataTable =\n",
              "            await google.colab.kernel.invokeFunction('convertToInteractive',\n",
              "                                                     [key], {});\n",
              "          if (!dataTable) return;\n",
              "\n",
              "          const docLinkHtml = 'Like what you see? Visit the ' +\n",
              "            '<a target=\"_blank\" href=https://colab.research.google.com/notebooks/data_table.ipynb>data table notebook</a>'\n",
              "            + ' to learn more about interactive tables.';\n",
              "          element.innerHTML = '';\n",
              "          dataTable['output_type'] = 'display_data';\n",
              "          await google.colab.output.renderOutput(dataTable, element);\n",
              "          const docLink = document.createElement('div');\n",
              "          docLink.innerHTML = docLinkHtml;\n",
              "          element.appendChild(docLink);\n",
              "        }\n",
              "      </script>\n",
              "    </div>\n",
              "  </div>\n",
              "  "
            ]
          },
          "metadata": {},
          "execution_count": 14
        }
      ]
    },
    {
      "cell_type": "code",
      "metadata": {
        "id": "jI2-gdkPngX3"
      },
      "source": [
        "df.at[37313,'shoe_size'] = None"
      ],
      "execution_count": null,
      "outputs": []
    },
    {
      "cell_type": "code",
      "metadata": {
        "id": "FfqhqcjWsUcn"
      },
      "source": [
        "def height_value(x):\n",
        "  if x<165:\n",
        "    return 5.5\n",
        "  elif 165<x<185:\n",
        "    return 6.5\n",
        "  elif 185<x<200:\n",
        "    return 7.5\n",
        "  else:\n",
        "    return None"
      ],
      "execution_count": null,
      "outputs": []
    },
    {
      "cell_type": "code",
      "metadata": {
        "id": "uWhSQq7I09eA"
      },
      "source": [
        "df.shoe_size.fillna(df['height'].apply(height_value),inplace=True)"
      ],
      "execution_count": null,
      "outputs": []
    },
    {
      "cell_type": "code",
      "metadata": {
        "colab": {
          "base_uri": "https://localhost:8080/"
        },
        "id": "Lk_TgtW96-5M",
        "outputId": "9ce8f0b3-a936-495f-e49a-b78ebfe82d58"
      },
      "source": [
        "df.shoe_size.isnull().sum()"
      ],
      "execution_count": null,
      "outputs": [
        {
          "output_type": "execute_result",
          "data": {
            "text/plain": [
              "2665"
            ]
          },
          "metadata": {},
          "execution_count": 18
        }
      ]
    },
    {
      "cell_type": "code",
      "metadata": {
        "colab": {
          "base_uri": "https://localhost:8080/",
          "height": 206
        },
        "id": "4f5_HsKT8j5e",
        "outputId": "3e8e9937-f30e-47fd-857f-40d6c95cca80"
      },
      "source": [
        "df.head()"
      ],
      "execution_count": null,
      "outputs": [
        {
          "output_type": "execute_result",
          "data": {
            "text/plain": [
              "   item_id  waist  quality cup size  hips  bra size category  bust  height  \\\n",
              "0   123373   29.0      5.0        d  38.0      34.0      new  36.0  167.10   \n",
              "1   123373   31.0      3.0        b  30.0      36.0      new   NaN  157.30   \n",
              "2   123373   30.0      2.0        b   NaN      32.0      new   NaN  169.55   \n",
              "3   123373    NaN      5.0     dd/e   NaN       NaN      new   NaN     NaN   \n",
              "4   123373    NaN      5.0        b   NaN      36.0      new   NaN  157.30   \n",
              "\n",
              "          user_name         length    fit  user_id  shoe_size shoe_width  size  \n",
              "0             Emily     just right  small   991571        6.5        NaN     7  \n",
              "1  sydneybraden2001     just right  small   587883        5.5        NaN    13  \n",
              "2             Ugggh  slightly long  small   395665        9.0        NaN     7  \n",
              "3      alexmeyer626     just right    fit   875643        NaN        NaN    21  \n",
              "4        dberrones1  slightly long  small   944840        5.5        NaN    18  "
            ],
            "text/html": [
              "\n",
              "  <div id=\"df-252d5341-fdf6-4225-b54f-789392490cbe\">\n",
              "    <div class=\"colab-df-container\">\n",
              "      <div>\n",
              "<style scoped>\n",
              "    .dataframe tbody tr th:only-of-type {\n",
              "        vertical-align: middle;\n",
              "    }\n",
              "\n",
              "    .dataframe tbody tr th {\n",
              "        vertical-align: top;\n",
              "    }\n",
              "\n",
              "    .dataframe thead th {\n",
              "        text-align: right;\n",
              "    }\n",
              "</style>\n",
              "<table border=\"1\" class=\"dataframe\">\n",
              "  <thead>\n",
              "    <tr style=\"text-align: right;\">\n",
              "      <th></th>\n",
              "      <th>item_id</th>\n",
              "      <th>waist</th>\n",
              "      <th>quality</th>\n",
              "      <th>cup size</th>\n",
              "      <th>hips</th>\n",
              "      <th>bra size</th>\n",
              "      <th>category</th>\n",
              "      <th>bust</th>\n",
              "      <th>height</th>\n",
              "      <th>user_name</th>\n",
              "      <th>length</th>\n",
              "      <th>fit</th>\n",
              "      <th>user_id</th>\n",
              "      <th>shoe_size</th>\n",
              "      <th>shoe_width</th>\n",
              "      <th>size</th>\n",
              "    </tr>\n",
              "  </thead>\n",
              "  <tbody>\n",
              "    <tr>\n",
              "      <th>0</th>\n",
              "      <td>123373</td>\n",
              "      <td>29.0</td>\n",
              "      <td>5.0</td>\n",
              "      <td>d</td>\n",
              "      <td>38.0</td>\n",
              "      <td>34.0</td>\n",
              "      <td>new</td>\n",
              "      <td>36.0</td>\n",
              "      <td>167.10</td>\n",
              "      <td>Emily</td>\n",
              "      <td>just right</td>\n",
              "      <td>small</td>\n",
              "      <td>991571</td>\n",
              "      <td>6.5</td>\n",
              "      <td>NaN</td>\n",
              "      <td>7</td>\n",
              "    </tr>\n",
              "    <tr>\n",
              "      <th>1</th>\n",
              "      <td>123373</td>\n",
              "      <td>31.0</td>\n",
              "      <td>3.0</td>\n",
              "      <td>b</td>\n",
              "      <td>30.0</td>\n",
              "      <td>36.0</td>\n",
              "      <td>new</td>\n",
              "      <td>NaN</td>\n",
              "      <td>157.30</td>\n",
              "      <td>sydneybraden2001</td>\n",
              "      <td>just right</td>\n",
              "      <td>small</td>\n",
              "      <td>587883</td>\n",
              "      <td>5.5</td>\n",
              "      <td>NaN</td>\n",
              "      <td>13</td>\n",
              "    </tr>\n",
              "    <tr>\n",
              "      <th>2</th>\n",
              "      <td>123373</td>\n",
              "      <td>30.0</td>\n",
              "      <td>2.0</td>\n",
              "      <td>b</td>\n",
              "      <td>NaN</td>\n",
              "      <td>32.0</td>\n",
              "      <td>new</td>\n",
              "      <td>NaN</td>\n",
              "      <td>169.55</td>\n",
              "      <td>Ugggh</td>\n",
              "      <td>slightly long</td>\n",
              "      <td>small</td>\n",
              "      <td>395665</td>\n",
              "      <td>9.0</td>\n",
              "      <td>NaN</td>\n",
              "      <td>7</td>\n",
              "    </tr>\n",
              "    <tr>\n",
              "      <th>3</th>\n",
              "      <td>123373</td>\n",
              "      <td>NaN</td>\n",
              "      <td>5.0</td>\n",
              "      <td>dd/e</td>\n",
              "      <td>NaN</td>\n",
              "      <td>NaN</td>\n",
              "      <td>new</td>\n",
              "      <td>NaN</td>\n",
              "      <td>NaN</td>\n",
              "      <td>alexmeyer626</td>\n",
              "      <td>just right</td>\n",
              "      <td>fit</td>\n",
              "      <td>875643</td>\n",
              "      <td>NaN</td>\n",
              "      <td>NaN</td>\n",
              "      <td>21</td>\n",
              "    </tr>\n",
              "    <tr>\n",
              "      <th>4</th>\n",
              "      <td>123373</td>\n",
              "      <td>NaN</td>\n",
              "      <td>5.0</td>\n",
              "      <td>b</td>\n",
              "      <td>NaN</td>\n",
              "      <td>36.0</td>\n",
              "      <td>new</td>\n",
              "      <td>NaN</td>\n",
              "      <td>157.30</td>\n",
              "      <td>dberrones1</td>\n",
              "      <td>slightly long</td>\n",
              "      <td>small</td>\n",
              "      <td>944840</td>\n",
              "      <td>5.5</td>\n",
              "      <td>NaN</td>\n",
              "      <td>18</td>\n",
              "    </tr>\n",
              "  </tbody>\n",
              "</table>\n",
              "</div>\n",
              "      <button class=\"colab-df-convert\" onclick=\"convertToInteractive('df-252d5341-fdf6-4225-b54f-789392490cbe')\"\n",
              "              title=\"Convert this dataframe to an interactive table.\"\n",
              "              style=\"display:none;\">\n",
              "        \n",
              "  <svg xmlns=\"http://www.w3.org/2000/svg\" height=\"24px\"viewBox=\"0 0 24 24\"\n",
              "       width=\"24px\">\n",
              "    <path d=\"M0 0h24v24H0V0z\" fill=\"none\"/>\n",
              "    <path d=\"M18.56 5.44l.94 2.06.94-2.06 2.06-.94-2.06-.94-.94-2.06-.94 2.06-2.06.94zm-11 1L8.5 8.5l.94-2.06 2.06-.94-2.06-.94L8.5 2.5l-.94 2.06-2.06.94zm10 10l.94 2.06.94-2.06 2.06-.94-2.06-.94-.94-2.06-.94 2.06-2.06.94z\"/><path d=\"M17.41 7.96l-1.37-1.37c-.4-.4-.92-.59-1.43-.59-.52 0-1.04.2-1.43.59L10.3 9.45l-7.72 7.72c-.78.78-.78 2.05 0 2.83L4 21.41c.39.39.9.59 1.41.59.51 0 1.02-.2 1.41-.59l7.78-7.78 2.81-2.81c.8-.78.8-2.07 0-2.86zM5.41 20L4 18.59l7.72-7.72 1.47 1.35L5.41 20z\"/>\n",
              "  </svg>\n",
              "      </button>\n",
              "      \n",
              "  <style>\n",
              "    .colab-df-container {\n",
              "      display:flex;\n",
              "      flex-wrap:wrap;\n",
              "      gap: 12px;\n",
              "    }\n",
              "\n",
              "    .colab-df-convert {\n",
              "      background-color: #E8F0FE;\n",
              "      border: none;\n",
              "      border-radius: 50%;\n",
              "      cursor: pointer;\n",
              "      display: none;\n",
              "      fill: #1967D2;\n",
              "      height: 32px;\n",
              "      padding: 0 0 0 0;\n",
              "      width: 32px;\n",
              "    }\n",
              "\n",
              "    .colab-df-convert:hover {\n",
              "      background-color: #E2EBFA;\n",
              "      box-shadow: 0px 1px 2px rgba(60, 64, 67, 0.3), 0px 1px 3px 1px rgba(60, 64, 67, 0.15);\n",
              "      fill: #174EA6;\n",
              "    }\n",
              "\n",
              "    [theme=dark] .colab-df-convert {\n",
              "      background-color: #3B4455;\n",
              "      fill: #D2E3FC;\n",
              "    }\n",
              "\n",
              "    [theme=dark] .colab-df-convert:hover {\n",
              "      background-color: #434B5C;\n",
              "      box-shadow: 0px 1px 3px 1px rgba(0, 0, 0, 0.15);\n",
              "      filter: drop-shadow(0px 1px 2px rgba(0, 0, 0, 0.3));\n",
              "      fill: #FFFFFF;\n",
              "    }\n",
              "  </style>\n",
              "\n",
              "      <script>\n",
              "        const buttonEl =\n",
              "          document.querySelector('#df-252d5341-fdf6-4225-b54f-789392490cbe button.colab-df-convert');\n",
              "        buttonEl.style.display =\n",
              "          google.colab.kernel.accessAllowed ? 'block' : 'none';\n",
              "\n",
              "        async function convertToInteractive(key) {\n",
              "          const element = document.querySelector('#df-252d5341-fdf6-4225-b54f-789392490cbe');\n",
              "          const dataTable =\n",
              "            await google.colab.kernel.invokeFunction('convertToInteractive',\n",
              "                                                     [key], {});\n",
              "          if (!dataTable) return;\n",
              "\n",
              "          const docLinkHtml = 'Like what you see? Visit the ' +\n",
              "            '<a target=\"_blank\" href=https://colab.research.google.com/notebooks/data_table.ipynb>data table notebook</a>'\n",
              "            + ' to learn more about interactive tables.';\n",
              "          element.innerHTML = '';\n",
              "          dataTable['output_type'] = 'display_data';\n",
              "          await google.colab.output.renderOutput(dataTable, element);\n",
              "          const docLink = document.createElement('div');\n",
              "          docLink.innerHTML = docLinkHtml;\n",
              "          element.appendChild(docLink);\n",
              "        }\n",
              "      </script>\n",
              "    </div>\n",
              "  </div>\n",
              "  "
            ]
          },
          "metadata": {},
          "execution_count": 19
        }
      ]
    },
    {
      "cell_type": "code",
      "metadata": {
        "colab": {
          "base_uri": "https://localhost:8080/",
          "height": 606
        },
        "id": "Z8vVsBtE9yki",
        "outputId": "b0732c48-1368-49b4-bc4e-0a2f228d1e82"
      },
      "source": [
        "plt.figure(figsize=(15,10))\n",
        "sns.barplot(data=df , x = 'shoe_size', y ='shoe_width')\n",
        "plt.ylabel('shoe width')\n",
        "plt.xlabel('shoe size')\n",
        "plt.show()"
      ],
      "execution_count": null,
      "outputs": [
        {
          "output_type": "display_data",
          "data": {
            "text/plain": [
              "<Figure size 1080x720 with 1 Axes>"
            ],
            "image/png": "[encoded data removed]"
          },
          "metadata": {
            "needs_background": "light"
          }
        }
      ]
    },
    {
      "cell_type": "code",
      "metadata": {
        "id": "N8L2SEt1yt19"
      },
      "source": [
        "def shoe_width(x):\n",
        "  if 6<x<7:\n",
        "    return 'narrow'\n",
        "  elif 7<x<8:\n",
        "    return 'average' \n",
        "  else :\n",
        "    return 'wide'"
      ],
      "execution_count": null,
      "outputs": []
    },
    {
      "cell_type": "code",
      "metadata": {
        "id": "vRPnxt497vxt"
      },
      "source": [
        "df.shoe_width.fillna(df['shoe_size'].apply(shoe_width),inplace=True)"
      ],
      "execution_count": null,
      "outputs": []
    },
    {
      "cell_type": "code",
      "metadata": {
        "colab": {
          "base_uri": "https://localhost:8080/"
        },
        "id": "Ru36k06IHpFd",
        "outputId": "27802e62-c163-45a5-9d86-c8a88f492b28"
      },
      "source": [
        "df.shoe_width.isnull().sum()"
      ],
      "execution_count": null,
      "outputs": [
        {
          "output_type": "execute_result",
          "data": {
            "text/plain": [
              "0"
            ]
          },
          "metadata": {},
          "execution_count": 23
        }
      ]
    },
    {
      "cell_type": "code",
      "metadata": {
        "colab": {
          "base_uri": "https://localhost:8080/",
          "height": 606
        },
        "id": "PFVIbaAM_HWq",
        "outputId": "0c519f4b-9177-4331-fa9b-fe188df8f957"
      },
      "source": [
        "plt.figure(figsize=(20,10))\n",
        "sns.barplot(data=df , y = 'fit', x ='waist')\n",
        "plt.ylabel('fit')\n",
        "plt.xlabel('waist')\n",
        "plt.show()"
      ],
      "execution_count": null,
      "outputs": [
        {
          "output_type": "display_data",
          "data": {
            "text/plain": [
              "<Figure size 1440x720 with 1 Axes>"
            ],
            "image/png": "[encoded data removed]"
          },
          "metadata": {
            "needs_background": "light"
          }
        }
      ]
    },
    {
      "cell_type": "code",
      "metadata": {
        "id": "UxTgHwtK1VJn"
      },
      "source": [
        "def fit_value(x):\n",
        "  if x == 'small':\n",
        "    return  random.randint(20, 35)\n",
        "  else:\n",
        "    return random.randint(35, 50)"
      ],
      "execution_count": null,
      "outputs": []
    },
    {
      "cell_type": "code",
      "metadata": {
        "id": "rGIJ7KGPAeiX"
      },
      "source": [
        "df.waist.fillna(df['fit'].apply(fit_value),inplace=True)"
      ],
      "execution_count": null,
      "outputs": []
    },
    {
      "cell_type": "code",
      "metadata": {
        "id": "EMVV9-34orkn",
        "colab": {
          "base_uri": "https://localhost:8080/"
        },
        "outputId": "c48d1004-63bd-430a-ce76-839296edab10"
      },
      "source": [
        "df['bust'].unique()"
      ],
      "execution_count": null,
      "outputs": [
        {
          "output_type": "execute_result",
          "data": {
            "text/plain": [
              "array([36.0, nan, 39.0, 34.0, 43.0, 35.0, 38.0, 33.0, 40.0, 41.0, 44.0,\n",
              "       45.0, 37.0, 30.0, 32.0, 42.0, 48.0, 46.0, 51.0, 25.0, 31.0, 26.0,\n",
              "       52.0, 22.0, 50.0, 47.0, 56.0, 58.0, 49.0, 54.0, 55.0, 53.0, 27.0,\n",
              "       28.0, 29.0, 20.0, 57.0, 23.0, '44', '42', '34', '36', '32', '38',\n",
              "       '40', '33', '47', '35', '41', '37', '39', '46', '30', '31', '20',\n",
              "       '43', '48', '45', '23', '49', '52', '26', '27', '53', '28', '56',\n",
              "       '57', '37-39', '54', '50', '25', '51', '29', '58', '24', '55',\n",
              "       59.0, 24.0], dtype=object)"
            ]
          },
          "metadata": {},
          "execution_count": 27
        }
      ]
    },
    {
      "cell_type": "code",
      "metadata": {
        "id": "oP0m_y4AqTPD"
      },
      "source": [
        "df.bust.replace(\"37-39\",'38',inplace=True)"
      ],
      "execution_count": null,
      "outputs": []
    },
    {
      "cell_type": "code",
      "metadata": {
        "id": "oR1vmlF5vNLT"
      },
      "source": [
        "df['bust'] = df['bust'].astype(float)"
      ],
      "execution_count": null,
      "outputs": []
    },
    {
      "cell_type": "code",
      "metadata": {
        "colab": {
          "base_uri": "https://localhost:8080/",
          "height": 606
        },
        "id": "NM3dU_L_CSLE",
        "outputId": "a4c6e356-0e5a-4cee-ff29-4cfe0e6c5aad"
      },
      "source": [
        "plt.figure(figsize=(20,10))\n",
        "ax = sns.barplot(data=df , x = 'fit', y ='bust')\n",
        "plt.xlabel('fit')\n",
        "plt.ylabel('bust')\n",
        "ax.grid()\n",
        "plt.show()"
      ],
      "execution_count": null,
      "outputs": [
        {
          "output_type": "display_data",
          "data": {
            "text/plain": [
              "<Figure size 1440x720 with 1 Axes>"
            ],
            "image/png": "[encoded data removed]"
          },
          "metadata": {
            "needs_background": "light"
          }
        }
      ]
    },
    {
      "cell_type": "code",
      "metadata": {
        "id": "wg8eFMcD4bxY"
      },
      "source": [
        "def fit_value1(x):\n",
        "  if x == 'fit':\n",
        "    return 36 \n",
        "  else:\n",
        "    return 38.5"
      ],
      "execution_count": null,
      "outputs": []
    },
    {
      "cell_type": "code",
      "metadata": {
        "id": "VK50H-CBEGjJ"
      },
      "source": [
        "df.bust.fillna(df['fit'].apply(fit_value1),inplace=True)"
      ],
      "execution_count": null,
      "outputs": []
    },
    {
      "cell_type": "code",
      "metadata": {
        "colab": {
          "base_uri": "https://localhost:8080/",
          "height": 606
        },
        "id": "dj5gMav-EYwm",
        "outputId": "00487ed9-291a-4879-a31c-339d642230f3"
      },
      "source": [
        "plt.figure(figsize=(20,10))\n",
        "ax = sns.barplot(data=df , x = 'hips', y ='waist')\n",
        "plt.xlabel('hips')\n",
        "plt.ylabel('waist')\n",
        "ax.grid()\n",
        "plt.show()"
      ],
      "execution_count": null,
      "outputs": [
        {
          "output_type": "display_data",
          "data": {
            "text/plain": [
              "<Figure size 1440x720 with 1 Axes>"
            ],
            "image/png": "[encoded data removed]"
          },
          "metadata": {
            "needs_background": "light"
          }
        }
      ]
    },
    {
      "cell_type": "code",
      "metadata": {
        "id": "DuVpG69DEuZD"
      },
      "source": [
        "df.hips.fillna(random.randint(38,42),inplace=True)"
      ],
      "execution_count": null,
      "outputs": []
    },
    {
      "cell_type": "code",
      "metadata": {
        "id": "i7UhiBmQq6cP",
        "colab": {
          "base_uri": "https://localhost:8080/"
        },
        "outputId": "2c843293-d4c1-4adb-d054-67ed09cc77c5"
      },
      "source": [
        "df.isnull().sum()"
      ],
      "execution_count": null,
      "outputs": [
        {
          "output_type": "execute_result",
          "data": {
            "text/plain": [
              "item_id          0\n",
              "waist            0\n",
              "quality         68\n",
              "cup size      6255\n",
              "hips             0\n",
              "bra size      6018\n",
              "category         0\n",
              "bust             0\n",
              "height        4005\n",
              "user_name        0\n",
              "length          35\n",
              "fit              0\n",
              "user_id          0\n",
              "shoe_size     2665\n",
              "shoe_width       0\n",
              "size             0\n",
              "dtype: int64"
            ]
          },
          "metadata": {},
          "execution_count": 35
        }
      ]
    },
    {
      "cell_type": "code",
      "metadata": {
        "id": "Xe_Sr4mw5_Ey"
      },
      "source": [
        "df.dropna(inplace=True)"
      ],
      "execution_count": null,
      "outputs": []
    },
    {
      "cell_type": "code",
      "metadata": {
        "id": "AX3l6mFLjuUT",
        "colab": {
          "base_uri": "https://localhost:8080/"
        },
        "outputId": "fceb837a-ffe8-48d3-d333-c5348f8fff6d"
      },
      "source": [
        "df.info()"
      ],
      "execution_count": null,
      "outputs": [
        {
          "output_type": "stream",
          "name": "stdout",
          "text": [
            "<class 'pandas.core.frame.DataFrame'>\n",
            "Int64Index: 73007 entries, 0 to 82787\n",
            "Data columns (total 16 columns):\n",
            " #   Column      Non-Null Count  Dtype  \n",
            "---  ------      --------------  -----  \n",
            " 0   item_id     73007 non-null  int64  \n",
            " 1   waist       73007 non-null  float64\n",
            " 2   quality     73007 non-null  float64\n",
            " 3   cup size    73007 non-null  object \n",
            " 4   hips        73007 non-null  float64\n",
            " 5   bra size    73007 non-null  float64\n",
            " 6   category    73007 non-null  object \n",
            " 7   bust        73007 non-null  float64\n",
            " 8   height      73007 non-null  float64\n",
            " 9   user_name   73007 non-null  object \n",
            " 10  length      73007 non-null  object \n",
            " 11  fit         73007 non-null  object \n",
            " 12  user_id     73007 non-null  int64  \n",
            " 13  shoe_size   73007 non-null  float64\n",
            " 14  shoe_width  73007 non-null  object \n",
            " 15  size        73007 non-null  int64  \n",
            "dtypes: float64(7), int64(3), object(6)\n",
            "memory usage: 9.5+ MB\n"
          ]
        }
      ]
    },
    {
      "cell_type": "code",
      "metadata": {
        "id": "GRZtQYD5nSLa",
        "colab": {
          "base_uri": "https://localhost:8080/",
          "height": 206
        },
        "outputId": "16f92064-2ed0-49d0-93f8-b9512d99c78d"
      },
      "source": [
        "df.head()"
      ],
      "execution_count": null,
      "outputs": [
        {
          "output_type": "execute_result",
          "data": {
            "text/plain": [
              "   item_id  waist  quality cup size  hips  bra size category  bust  height  \\\n",
              "0   123373   29.0      5.0        d  38.0      34.0      new  36.0  167.10   \n",
              "1   123373   31.0      3.0        b  30.0      36.0      new  38.5  157.30   \n",
              "2   123373   30.0      2.0        b  42.0      32.0      new  38.5  169.55   \n",
              "4   123373   27.0      5.0        b  42.0      36.0      new  38.5  157.30   \n",
              "5   123373   27.0      5.0        c  41.0      36.0      new  38.5  162.20   \n",
              "\n",
              "          user_name         length    fit  user_id  shoe_size shoe_width  size  \n",
              "0             Emily     just right  small   991571        6.5     narrow     7  \n",
              "1  sydneybraden2001     just right  small   587883        5.5       wide    13  \n",
              "2             Ugggh  slightly long  small   395665        9.0       wide     7  \n",
              "4        dberrones1  slightly long  small   944840        5.5       wide    18  \n",
              "5       Doreenajane     just right  small   162012        5.5       wide    11  "
            ],
            "text/html": [
              "\n",
              "  <div id=\"df-975b9143-dc75-42ea-9b4f-c22fd3678dfd\">\n",
              "    <div class=\"colab-df-container\">\n",
              "      <div>\n",
              "<style scoped>\n",
              "    .dataframe tbody tr th:only-of-type {\n",
              "        vertical-align: middle;\n",
              "    }\n",
              "\n",
              "    .dataframe tbody tr th {\n",
              "        vertical-align: top;\n",
              "    }\n",
              "\n",
              "    .dataframe thead th {\n",
              "        text-align: right;\n",
              "    }\n",
              "</style>\n",
              "<table border=\"1\" class=\"dataframe\">\n",
              "  <thead>\n",
              "    <tr style=\"text-align: right;\">\n",
              "      <th></th>\n",
              "      <th>item_id</th>\n",
              "      <th>waist</th>\n",
              "      <th>quality</th>\n",
              "      <th>cup size</th>\n",
              "      <th>hips</th>\n",
              "      <th>bra size</th>\n",
              "      <th>category</th>\n",
              "      <th>bust</th>\n",
              "      <th>height</th>\n",
              "      <th>user_name</th>\n",
              "      <th>length</th>\n",
              "      <th>fit</th>\n",
              "      <th>user_id</th>\n",
              "      <th>shoe_size</th>\n",
              "      <th>shoe_width</th>\n",
              "      <th>size</th>\n",
              "    </tr>\n",
              "  </thead>\n",
              "  <tbody>\n",
              "    <tr>\n",
              "      <th>0</th>\n",
              "      <td>123373</td>\n",
              "      <td>29.0</td>\n",
              "      <td>5.0</td>\n",
              "      <td>d</td>\n",
              "      <td>38.0</td>\n",
              "      <td>34.0</td>\n",
              "      <td>new</td>\n",
              "      <td>36.0</td>\n",
              "      <td>167.10</td>\n",
              "      <td>Emily</td>\n",
              "      <td>just right</td>\n",
              "      <td>small</td>\n",
              "      <td>991571</td>\n",
              "      <td>6.5</td>\n",
              "      <td>narrow</td>\n",
              "      <td>7</td>\n",
              "    </tr>\n",
              "    <tr>\n",
              "      <th>1</th>\n",
              "      <td>123373</td>\n",
              "      <td>31.0</td>\n",
              "      <td>3.0</td>\n",
              "      <td>b</td>\n",
              "      <td>30.0</td>\n",
              "      <td>36.0</td>\n",
              "      <td>new</td>\n",
              "      <td>38.5</td>\n",
              "      <td>157.30</td>\n",
              "      <td>sydneybraden2001</td>\n",
              "      <td>just right</td>\n",
              "      <td>small</td>\n",
              "      <td>587883</td>\n",
              "      <td>5.5</td>\n",
              "      <td>wide</td>\n",
              "      <td>13</td>\n",
              "    </tr>\n",
              "    <tr>\n",
              "      <th>2</th>\n",
              "      <td>123373</td>\n",
              "      <td>30.0</td>\n",
              "      <td>2.0</td>\n",
              "      <td>b</td>\n",
              "      <td>42.0</td>\n",
              "      <td>32.0</td>\n",
              "      <td>new</td>\n",
              "      <td>38.5</td>\n",
              "      <td>169.55</td>\n",
              "      <td>Ugggh</td>\n",
              "      <td>slightly long</td>\n",
              "      <td>small</td>\n",
              "      <td>395665</td>\n",
              "      <td>9.0</td>\n",
              "      <td>wide</td>\n",
              "      <td>7</td>\n",
              "    </tr>\n",
              "    <tr>\n",
              "      <th>4</th>\n",
              "      <td>123373</td>\n",
              "      <td>27.0</td>\n",
              "      <td>5.0</td>\n",
              "      <td>b</td>\n",
              "      <td>42.0</td>\n",
              "      <td>36.0</td>\n",
              "      <td>new</td>\n",
              "      <td>38.5</td>\n",
              "      <td>157.30</td>\n",
              "      <td>dberrones1</td>\n",
              "      <td>slightly long</td>\n",
              "      <td>small</td>\n",
              "      <td>944840</td>\n",
              "      <td>5.5</td>\n",
              "      <td>wide</td>\n",
              "      <td>18</td>\n",
              "    </tr>\n",
              "    <tr>\n",
              "      <th>5</th>\n",
              "      <td>123373</td>\n",
              "      <td>27.0</td>\n",
              "      <td>5.0</td>\n",
              "      <td>c</td>\n",
              "      <td>41.0</td>\n",
              "      <td>36.0</td>\n",
              "      <td>new</td>\n",
              "      <td>38.5</td>\n",
              "      <td>162.20</td>\n",
              "      <td>Doreenajane</td>\n",
              "      <td>just right</td>\n",
              "      <td>small</td>\n",
              "      <td>162012</td>\n",
              "      <td>5.5</td>\n",
              "      <td>wide</td>\n",
              "      <td>11</td>\n",
              "    </tr>\n",
              "  </tbody>\n",
              "</table>\n",
              "</div>\n",
              "      <button class=\"colab-df-convert\" onclick=\"convertToInteractive('df-975b9143-dc75-42ea-9b4f-c22fd3678dfd')\"\n",
              "              title=\"Convert this dataframe to an interactive table.\"\n",
              "              style=\"display:none;\">\n",
              "        \n",
              "  <svg xmlns=\"http://www.w3.org/2000/svg\" height=\"24px\"viewBox=\"0 0 24 24\"\n",
              "       width=\"24px\">\n",
              "    <path d=\"M0 0h24v24H0V0z\" fill=\"none\"/>\n",
              "    <path d=\"M18.56 5.44l.94 2.06.94-2.06 2.06-.94-2.06-.94-.94-2.06-.94 2.06-2.06.94zm-11 1L8.5 8.5l.94-2.06 2.06-.94-2.06-.94L8.5 2.5l-.94 2.06-2.06.94zm10 10l.94 2.06.94-2.06 2.06-.94-2.06-.94-.94-2.06-.94 2.06-2.06.94z\"/><path d=\"M17.41 7.96l-1.37-1.37c-.4-.4-.92-.59-1.43-.59-.52 0-1.04.2-1.43.59L10.3 9.45l-7.72 7.72c-.78.78-.78 2.05 0 2.83L4 21.41c.39.39.9.59 1.41.59.51 0 1.02-.2 1.41-.59l7.78-7.78 2.81-2.81c.8-.78.8-2.07 0-2.86zM5.41 20L4 18.59l7.72-7.72 1.47 1.35L5.41 20z\"/>\n",
              "  </svg>\n",
              "      </button>\n",
              "      \n",
              "  <style>\n",
              "    .colab-df-container {\n",
              "      display:flex;\n",
              "      flex-wrap:wrap;\n",
              "      gap: 12px;\n",
              "    }\n",
              "\n",
              "    .colab-df-convert {\n",
              "      background-color: #E8F0FE;\n",
              "      border: none;\n",
              "      border-radius: 50%;\n",
              "      cursor: pointer;\n",
              "      display: none;\n",
              "      fill: #1967D2;\n",
              "      height: 32px;\n",
              "      padding: 0 0 0 0;\n",
              "      width: 32px;\n",
              "    }\n",
              "\n",
              "    .colab-df-convert:hover {\n",
              "      background-color: #E2EBFA;\n",
              "      box-shadow: 0px 1px 2px rgba(60, 64, 67, 0.3), 0px 1px 3px 1px rgba(60, 64, 67, 0.15);\n",
              "      fill: #174EA6;\n",
              "    }\n",
              "\n",
              "    [theme=dark] .colab-df-convert {\n",
              "      background-color: #3B4455;\n",
              "      fill: #D2E3FC;\n",
              "    }\n",
              "\n",
              "    [theme=dark] .colab-df-convert:hover {\n",
              "      background-color: #434B5C;\n",
              "      box-shadow: 0px 1px 3px 1px rgba(0, 0, 0, 0.15);\n",
              "      filter: drop-shadow(0px 1px 2px rgba(0, 0, 0, 0.3));\n",
              "      fill: #FFFFFF;\n",
              "    }\n",
              "  </style>\n",
              "\n",
              "      <script>\n",
              "        const buttonEl =\n",
              "          document.querySelector('#df-975b9143-dc75-42ea-9b4f-c22fd3678dfd button.colab-df-convert');\n",
              "        buttonEl.style.display =\n",
              "          google.colab.kernel.accessAllowed ? 'block' : 'none';\n",
              "\n",
              "        async function convertToInteractive(key) {\n",
              "          const element = document.querySelector('#df-975b9143-dc75-42ea-9b4f-c22fd3678dfd');\n",
              "          const dataTable =\n",
              "            await google.colab.kernel.invokeFunction('convertToInteractive',\n",
              "                                                     [key], {});\n",
              "          if (!dataTable) return;\n",
              "\n",
              "          const docLinkHtml = 'Like what you see? Visit the ' +\n",
              "            '<a target=\"_blank\" href=https://colab.research.google.com/notebooks/data_table.ipynb>data table notebook</a>'\n",
              "            + ' to learn more about interactive tables.';\n",
              "          element.innerHTML = '';\n",
              "          dataTable['output_type'] = 'display_data';\n",
              "          await google.colab.output.renderOutput(dataTable, element);\n",
              "          const docLink = document.createElement('div');\n",
              "          docLink.innerHTML = docLinkHtml;\n",
              "          element.appendChild(docLink);\n",
              "        }\n",
              "      </script>\n",
              "    </div>\n",
              "  </div>\n",
              "  "
            ]
          },
          "metadata": {},
          "execution_count": 38
        }
      ]
    },
    {
      "cell_type": "code",
      "metadata": {
        "id": "FC10h7T6jSM8"
      },
      "source": [
        "Le = LabelEncoder()\n",
        "df['cup size'] = Le.fit_transform(df['cup size'])"
      ],
      "execution_count": null,
      "outputs": []
    },
    {
      "cell_type": "code",
      "metadata": {
        "id": "cNb2DzyXoMEI"
      },
      "source": [
        "df['category'] = Le.fit_transform(df['category'])\n",
        "df['length'] = Le.fit_transform(df['length'])\n",
        "df['fit'] = Le.fit_transform(df['fit'])\n",
        "df['shoe_width'] = Le.fit_transform(df['shoe_width'])"
      ],
      "execution_count": null,
      "outputs": []
    },
    {
      "cell_type": "code",
      "metadata": {
        "colab": {
          "base_uri": "https://localhost:8080/",
          "height": 642
        },
        "id": "t4oLjvgWmbkj",
        "outputId": "c700dee6-33b8-432b-9dbe-730255bcb669"
      },
      "source": [
        "corr = df.corr()\n",
        "plt.figure(figsize=(13,10))\n",
        "sns.heatmap(data=corr,annot=True)\n",
        "plt.show()"
      ],
      "execution_count": null,
      "outputs": [
        {
          "output_type": "display_data",
          "data": {
            "text/plain": [
              "<Figure size 936x720 with 2 Axes>"
            ],
            "image/png": "[encoded data removed]"
          },
          "metadata": {
            "needs_background": "light"
          }
        }
      ]
    },
    {
      "cell_type": "code",
      "metadata": {
        "id": "M3gcz1bDpPTS",
        "colab": {
          "base_uri": "https://localhost:8080/"
        },
        "outputId": "cbb2f21b-56ec-4975-bec9-bb47bd4528bd"
      },
      "source": [
        "df.info()"
      ],
      "execution_count": null,
      "outputs": [
        {
          "output_type": "stream",
          "name": "stdout",
          "text": [
            "<class 'pandas.core.frame.DataFrame'>\n",
            "Int64Index: 73007 entries, 0 to 82787\n",
            "Data columns (total 16 columns):\n",
            " #   Column      Non-Null Count  Dtype  \n",
            "---  ------      --------------  -----  \n",
            " 0   item_id     73007 non-null  int64  \n",
            " 1   waist       73007 non-null  float64\n",
            " 2   quality     73007 non-null  float64\n",
            " 3   cup size    73007 non-null  int64  \n",
            " 4   hips        73007 non-null  float64\n",
            " 5   bra size    73007 non-null  float64\n",
            " 6   category    73007 non-null  int64  \n",
            " 7   bust        73007 non-null  float64\n",
            " 8   height      73007 non-null  float64\n",
            " 9   user_name   73007 non-null  object \n",
            " 10  length      73007 non-null  int64  \n",
            " 11  fit         73007 non-null  int64  \n",
            " 12  user_id     73007 non-null  int64  \n",
            " 13  shoe_size   73007 non-null  float64\n",
            " 14  shoe_width  73007 non-null  int64  \n",
            " 15  size        73007 non-null  int64  \n",
            "dtypes: float64(7), int64(8), object(1)\n",
            "memory usage: 9.5+ MB\n"
          ]
        }
      ]
    },
    {
      "cell_type": "code",
      "metadata": {
        "id": "S2VUfF3LwGVh"
      },
      "source": [
        "del df['user_name']\n",
        "del df['quality']\n",
        "del df['waist']\n",
        "del df['length']\n",
        "del df['shoe_width']\n",
        "del df['user_id']"
      ],
      "execution_count": null,
      "outputs": []
    },
    {
      "cell_type": "code",
      "metadata": {
        "id": "Oi1uJk0_dSC0"
      },
      "source": [
        "def for_size(x):\n",
        "  if 0<=x<=9:\n",
        "    return \"xs\"\n",
        "  elif 9<x<=15:\n",
        "    return \"s\"\n",
        "  elif 15<x<=20:\n",
        "    return 'm'\n",
        "  elif 20<x<=25:\n",
        "    return 'l'\n",
        "  elif 25<x<=30:\n",
        "    return 'xl'\n",
        "  elif x>30:\n",
        "    return 'xxl'"
      ],
      "execution_count": null,
      "outputs": []
    },
    {
      "cell_type": "code",
      "metadata": {
        "id": "BE_YhjnKerNb"
      },
      "source": [
        "df.size = df['size'].apply(for_size)"
      ],
      "execution_count": null,
      "outputs": []
    },
    {
      "cell_type": "code",
      "metadata": {
        "colab": {
          "base_uri": "https://localhost:8080/"
        },
        "id": "TPTveQxNfAJ8",
        "outputId": "64466e76-1385-46d3-dc26-95049db30c56"
      },
      "source": [
        "df['size'].unique()"
      ],
      "execution_count": null,
      "outputs": [
        {
          "output_type": "execute_result",
          "data": {
            "text/plain": [
              "array(['xs', 's', 'm', 'xl', 'l', 'xxl'], dtype=object)"
            ]
          },
          "metadata": {},
          "execution_count": 46
        }
      ]
    },
    {
      "cell_type": "code",
      "metadata": {
        "colab": {
          "base_uri": "https://localhost:8080/",
          "height": 49
        },
        "id": "wzq33OiSgJk8",
        "outputId": "b75614bd-df76-42ea-85dc-b5821c4c53d3"
      },
      "source": [
        "df[df['size'] == None]"
      ],
      "execution_count": null,
      "outputs": [
        {
          "output_type": "execute_result",
          "data": {
            "text/plain": [
              "Empty DataFrame\n",
              "Columns: [item_id, cup size, hips, bra size, category, bust, height, fit, shoe_size, size]\n",
              "Index: []"
            ],
            "text/html": [
              "\n",
              "  <div id=\"df-7f96e8af-d2bc-4309-873b-a73dcd0ece33\">\n",
              "    <div class=\"colab-df-container\">\n",
              "      <div>\n",
              "<style scoped>\n",
              "    .dataframe tbody tr th:only-of-type {\n",
              "        vertical-align: middle;\n",
              "    }\n",
              "\n",
              "    .dataframe tbody tr th {\n",
              "        vertical-align: top;\n",
              "    }\n",
              "\n",
              "    .dataframe thead th {\n",
              "        text-align: right;\n",
              "    }\n",
              "</style>\n",
              "<table border=\"1\" class=\"dataframe\">\n",
              "  <thead>\n",
              "    <tr style=\"text-align: right;\">\n",
              "      <th></th>\n",
              "      <th>item_id</th>\n",
              "      <th>cup size</th>\n",
              "      <th>hips</th>\n",
              "      <th>bra size</th>\n",
              "      <th>category</th>\n",
              "      <th>bust</th>\n",
              "      <th>height</th>\n",
              "      <th>fit</th>\n",
              "      <th>shoe_size</th>\n",
              "      <th>size</th>\n",
              "    </tr>\n",
              "  </thead>\n",
              "  <tbody>\n",
              "  </tbody>\n",
              "</table>\n",
              "</div>\n",
              "      <button class=\"colab-df-convert\" onclick=\"convertToInteractive('df-7f96e8af-d2bc-4309-873b-a73dcd0ece33')\"\n",
              "              title=\"Convert this dataframe to an interactive table.\"\n",
              "              style=\"display:none;\">\n",
              "        \n",
              "  <svg xmlns=\"http://www.w3.org/2000/svg\" height=\"24px\"viewBox=\"0 0 24 24\"\n",
              "       width=\"24px\">\n",
              "    <path d=\"M0 0h24v24H0V0z\" fill=\"none\"/>\n",
              "    <path d=\"M18.56 5.44l.94 2.06.94-2.06 2.06-.94-2.06-.94-.94-2.06-.94 2.06-2.06.94zm-11 1L8.5 8.5l.94-2.06 2.06-.94-2.06-.94L8.5 2.5l-.94 2.06-2.06.94zm10 10l.94 2.06.94-2.06 2.06-.94-2.06-.94-.94-2.06-.94 2.06-2.06.94z\"/><path d=\"M17.41 7.96l-1.37-1.37c-.4-.4-.92-.59-1.43-.59-.52 0-1.04.2-1.43.59L10.3 9.45l-7.72 7.72c-.78.78-.78 2.05 0 2.83L4 21.41c.39.39.9.59 1.41.59.51 0 1.02-.2 1.41-.59l7.78-7.78 2.81-2.81c.8-.78.8-2.07 0-2.86zM5.41 20L4 18.59l7.72-7.72 1.47 1.35L5.41 20z\"/>\n",
              "  </svg>\n",
              "      </button>\n",
              "      \n",
              "  <style>\n",
              "    .colab-df-container {\n",
              "      display:flex;\n",
              "      flex-wrap:wrap;\n",
              "      gap: 12px;\n",
              "    }\n",
              "\n",
              "    .colab-df-convert {\n",
              "      background-color: #E8F0FE;\n",
              "      border: none;\n",
              "      border-radius: 50%;\n",
              "      cursor: pointer;\n",
              "      display: none;\n",
              "      fill: #1967D2;\n",
              "      height: 32px;\n",
              "      padding: 0 0 0 0;\n",
              "      width: 32px;\n",
              "    }\n",
              "\n",
              "    .colab-df-convert:hover {\n",
              "      background-color: #E2EBFA;\n",
              "      box-shadow: 0px 1px 2px rgba(60, 64, 67, 0.3), 0px 1px 3px 1px rgba(60, 64, 67, 0.15);\n",
              "      fill: #174EA6;\n",
              "    }\n",
              "\n",
              "    [theme=dark] .colab-df-convert {\n",
              "      background-color: #3B4455;\n",
              "      fill: #D2E3FC;\n",
              "    }\n",
              "\n",
              "    [theme=dark] .colab-df-convert:hover {\n",
              "      background-color: #434B5C;\n",
              "      box-shadow: 0px 1px 3px 1px rgba(0, 0, 0, 0.15);\n",
              "      filter: drop-shadow(0px 1px 2px rgba(0, 0, 0, 0.3));\n",
              "      fill: #FFFFFF;\n",
              "    }\n",
              "  </style>\n",
              "\n",
              "      <script>\n",
              "        const buttonEl =\n",
              "          document.querySelector('#df-7f96e8af-d2bc-4309-873b-a73dcd0ece33 button.colab-df-convert');\n",
              "        buttonEl.style.display =\n",
              "          google.colab.kernel.accessAllowed ? 'block' : 'none';\n",
              "\n",
              "        async function convertToInteractive(key) {\n",
              "          const element = document.querySelector('#df-7f96e8af-d2bc-4309-873b-a73dcd0ece33');\n",
              "          const dataTable =\n",
              "            await google.colab.kernel.invokeFunction('convertToInteractive',\n",
              "                                                     [key], {});\n",
              "          if (!dataTable) return;\n",
              "\n",
              "          const docLinkHtml = 'Like what you see? Visit the ' +\n",
              "            '<a target=\"_blank\" href=https://colab.research.google.com/notebooks/data_table.ipynb>data table notebook</a>'\n",
              "            + ' to learn more about interactive tables.';\n",
              "          element.innerHTML = '';\n",
              "          dataTable['output_type'] = 'display_data';\n",
              "          await google.colab.output.renderOutput(dataTable, element);\n",
              "          const docLink = document.createElement('div');\n",
              "          docLink.innerHTML = docLinkHtml;\n",
              "          element.appendChild(docLink);\n",
              "        }\n",
              "      </script>\n",
              "    </div>\n",
              "  </div>\n",
              "  "
            ]
          },
          "metadata": {},
          "execution_count": 47
        }
      ]
    },
    {
      "cell_type": "code",
      "metadata": {
        "colab": {
          "base_uri": "https://localhost:8080/"
        },
        "id": "2W7cY4Y3aR3r",
        "outputId": "31d10acf-0835-4c40-d2f2-3792e89cf5cb"
      },
      "source": [
        "a = df['size'].unique()\n",
        "a.sort()\n",
        "a"
      ],
      "execution_count": null,
      "outputs": [
        {
          "output_type": "execute_result",
          "data": {
            "text/plain": [
              "array(['l', 'm', 's', 'xl', 'xs', 'xxl'], dtype=object)"
            ]
          },
          "metadata": {},
          "execution_count": 48
        }
      ]
    },
    {
      "cell_type": "code",
      "metadata": {
        "id": "qXZ_gZyUf9a5"
      },
      "source": [
        "df['size'] = Le.fit_transform(df['size'])"
      ],
      "execution_count": null,
      "outputs": []
    },
    {
      "cell_type": "code",
      "metadata": {
        "id": "F1R6wqsKwcBq",
        "colab": {
          "base_uri": "https://localhost:8080/"
        },
        "outputId": "9093aca6-8b9d-41b2-dfe1-00f4cb98b20f"
      },
      "source": [
        "df.info()"
      ],
      "execution_count": null,
      "outputs": [
        {
          "output_type": "stream",
          "name": "stdout",
          "text": [
            "<class 'pandas.core.frame.DataFrame'>\n",
            "Int64Index: 73007 entries, 0 to 82787\n",
            "Data columns (total 10 columns):\n",
            " #   Column     Non-Null Count  Dtype  \n",
            "---  ------     --------------  -----  \n",
            " 0   item_id    73007 non-null  int64  \n",
            " 1   cup size   73007 non-null  int64  \n",
            " 2   hips       73007 non-null  float64\n",
            " 3   bra size   73007 non-null  float64\n",
            " 4   category   73007 non-null  int64  \n",
            " 5   bust       73007 non-null  float64\n",
            " 6   height     73007 non-null  float64\n",
            " 7   fit        73007 non-null  int64  \n",
            " 8   shoe_size  73007 non-null  float64\n",
            " 9   size       73007 non-null  int64  \n",
            "dtypes: float64(5), int64(5)\n",
            "memory usage: 6.1 MB\n"
          ]
        }
      ]
    },
    {
      "cell_type": "code",
      "metadata": {
        "id": "2jiTRC3vwd91"
      },
      "source": [
        "x = df.values[:,0:9]\n",
        "y = df.values[:,9]\n",
        "x_train,x_test,y_train,y_test = train_test_split(x,y,test_size=0.25,random_state=42)"
      ],
      "execution_count": null,
      "outputs": []
    },
    {
      "cell_type": "code",
      "metadata": {
        "id": "P8_cmbKVxlRl",
        "colab": {
          "base_uri": "https://localhost:8080/"
        },
        "outputId": "2e79c0ef-26ee-4048-c773-5841b9a9df06"
      },
      "source": [
        "x_train.shape, x_test.shape, y_train.shape, y_test.shape"
      ],
      "execution_count": null,
      "outputs": [
        {
          "output_type": "execute_result",
          "data": {
            "text/plain": [
              "((54755, 9), (18252, 9), (54755,), (18252,))"
            ]
          },
          "metadata": {},
          "execution_count": 52
        }
      ]
    },
    {
      "cell_type": "code",
      "metadata": {
        "id": "_p__KgVfxx-h",
        "colab": {
          "base_uri": "https://localhost:8080/"
        },
        "outputId": "f4c2e95c-6898-4d1c-8b96-dfc9b340cdfb"
      },
      "source": [
        "LR = LogisticRegression()\n",
        "LR.fit(x_train, y_train)\n",
        "predictions = LR.predict(x_test)\n",
        "print(\"Accuracy:\")\n",
        "print(\"Testing accuracy : \",accuracy_score(y_test, predictions)*100)\n",
        "print(\"Training accuracy : \",accuracy_score(y_train,LR.predict(x_train))*100)"
      ],
      "execution_count": null,
      "outputs": [
        {
          "output_type": "stream",
          "name": "stdout",
          "text": [
            "Accuracy:\n",
            "Testing accuracy :  44.45540214770984\n",
            "Training accuracy :  44.43247192037257\n"
          ]
        }
      ]
    },
    {
      "cell_type": "code",
      "metadata": {
        "id": "NmvrH_51yHYu",
        "colab": {
          "base_uri": "https://localhost:8080/"
        },
        "outputId": "ed780dfd-ad3a-4876-cf44-c4969e5ea32d"
      },
      "source": [
        "KNN = KNeighborsClassifier()\n",
        "KNN.fit(x_train, y_train)\n",
        "predictions = KNN.predict(x_test)\n",
        "print(\"Accuracy:\")\n",
        "print(\"Training accuracy : \",accuracy_score(y_train,KNN.predict(x_train))*100)\n",
        "print(\"Testing accuracy : \",accuracy_score(y_test, predictions)*100)"
      ],
      "execution_count": null,
      "outputs": [
        {
          "output_type": "stream",
          "name": "stdout",
          "text": [
            "Accuracy:\n",
            "Training accuracy :  72.89745228746233\n",
            "Testing accuracy :  61.41792680254219\n"
          ]
        }
      ]
    },
    {
      "cell_type": "code",
      "metadata": {
        "id": "DZwm1f5DyUA8",
        "colab": {
          "base_uri": "https://localhost:8080/"
        },
        "outputId": "2cdaa1d5-20a9-4ca3-d784-bb839ac5ee6c"
      },
      "source": [
        "DT = DecisionTreeClassifier()\n",
        "DT.fit(x_train, y_train)\n",
        "predictions = DT.predict(x_test)\n",
        "print(\"Accuracy:\")\n",
        "print(\"Training accuracy : \",accuracy_score(y_train,DT.predict(x_train))*100)\n",
        "print(\"Testing accuracy : \",accuracy_score(y_test, predictions)*100)"
      ],
      "execution_count": null,
      "outputs": [
        {
          "output_type": "stream",
          "name": "stdout",
          "text": [
            "Accuracy:\n",
            "Training accuracy :  98.88777280613643\n",
            "Testing accuracy :  61.664475126013585\n"
          ]
        }
      ]
    },
    {
      "cell_type": "code",
      "metadata": {
        "id": "cfBEW9JA-A_y",
        "colab": {
          "base_uri": "https://localhost:8080/"
        },
        "outputId": "90c60a00-5401-4792-b470-33e718dd71e4"
      },
      "source": [
        "rf = RandomForestClassifier()\n",
        "rf.fit(x_train,y_train)\n",
        "rf_train_pred = rf.predict(x_train)\n",
        "rf_test_pred = rf.predict(x_test)\n",
        "print(\"Training accuracy : \",accuracy_score(y_train,rf_train_pred)*100)\n",
        "print(\"Testing accuracy : \",accuracy_score(y_test, rf_test_pred)*100)"
      ],
      "execution_count": null,
      "outputs": [
        {
          "output_type": "stream",
          "name": "stdout",
          "text": [
            "Training accuracy :  98.88594648890512\n",
            "Testing accuracy :  68.71027832566294\n"
          ]
        }
      ]
    },
    {
      "cell_type": "code",
      "metadata": {
        "id": "dd93OpuVM4bD",
        "colab": {
          "base_uri": "https://localhost:8080/",
          "height": 206
        },
        "outputId": "8a5fd770-7ac9-4147-e3b3-393a8e5b9ef8"
      },
      "source": [
        "df.head()"
      ],
      "execution_count": null,
      "outputs": [
        {
          "output_type": "execute_result",
          "data": {
            "text/plain": [
              "   item_id  cup size  hips  bra size  category  bust  height  fit  shoe_size  \\\n",
              "0   123373         4  38.0      34.0         2  36.0  167.10    2        6.5   \n",
              "1   123373         2  30.0      36.0         2  38.5  157.30    2        5.5   \n",
              "2   123373         2  42.0      32.0         2  38.5  169.55    2        9.0   \n",
              "4   123373         2  42.0      36.0         2  38.5  157.30    2        5.5   \n",
              "5   123373         3  41.0      36.0         2  38.5  162.20    2        5.5   \n",
              "\n",
              "   size  \n",
              "0     4  \n",
              "1     2  \n",
              "2     4  \n",
              "4     1  \n",
              "5     2  "
            ],
            "text/html": [
              "\n",
              "  <div id=\"df-3fdf8e24-ff9a-4c0e-95f0-c82ebcd0c63f\">\n",
              "    <div class=\"colab-df-container\">\n",
              "      <div>\n",
              "<style scoped>\n",
              "    .dataframe tbody tr th:only-of-type {\n",
              "        vertical-align: middle;\n",
              "    }\n",
              "\n",
              "    .dataframe tbody tr th {\n",
              "        vertical-align: top;\n",
              "    }\n",
              "\n",
              "    .dataframe thead th {\n",
              "        text-align: right;\n",
              "    }\n",
              "</style>\n",
              "<table border=\"1\" class=\"dataframe\">\n",
              "  <thead>\n",
              "    <tr style=\"text-align: right;\">\n",
              "      <th></th>\n",
              "      <th>item_id</th>\n",
              "      <th>cup size</th>\n",
              "      <th>hips</th>\n",
              "      <th>bra size</th>\n",
              "      <th>category</th>\n",
              "      <th>bust</th>\n",
              "      <th>height</th>\n",
              "      <th>fit</th>\n",
              "      <th>shoe_size</th>\n",
              "      <th>size</th>\n",
              "    </tr>\n",
              "  </thead>\n",
              "  <tbody>\n",
              "    <tr>\n",
              "      <th>0</th>\n",
              "      <td>123373</td>\n",
              "      <td>4</td>\n",
              "      <td>38.0</td>\n",
              "      <td>34.0</td>\n",
              "      <td>2</td>\n",
              "      <td>36.0</td>\n",
              "      <td>167.10</td>\n",
              "      <td>2</td>\n",
              "      <td>6.5</td>\n",
              "      <td>4</td>\n",
              "    </tr>\n",
              "    <tr>\n",
              "      <th>1</th>\n",
              "      <td>123373</td>\n",
              "      <td>2</td>\n",
              "      <td>30.0</td>\n",
              "      <td>36.0</td>\n",
              "      <td>2</td>\n",
              "      <td>38.5</td>\n",
              "      <td>157.30</td>\n",
              "      <td>2</td>\n",
              "      <td>5.5</td>\n",
              "      <td>2</td>\n",
              "    </tr>\n",
              "    <tr>\n",
              "      <th>2</th>\n",
              "      <td>123373</td>\n",
              "      <td>2</td>\n",
              "      <td>42.0</td>\n",
              "      <td>32.0</td>\n",
              "      <td>2</td>\n",
              "      <td>38.5</td>\n",
              "      <td>169.55</td>\n",
              "      <td>2</td>\n",
              "      <td>9.0</td>\n",
              "      <td>4</td>\n",
              "    </tr>\n",
              "    <tr>\n",
              "      <th>4</th>\n",
              "      <td>123373</td>\n",
              "      <td>2</td>\n",
              "      <td>42.0</td>\n",
              "      <td>36.0</td>\n",
              "      <td>2</td>\n",
              "      <td>38.5</td>\n",
              "      <td>157.30</td>\n",
              "      <td>2</td>\n",
              "      <td>5.5</td>\n",
              "      <td>1</td>\n",
              "    </tr>\n",
              "    <tr>\n",
              "      <th>5</th>\n",
              "      <td>123373</td>\n",
              "      <td>3</td>\n",
              "      <td>41.0</td>\n",
              "      <td>36.0</td>\n",
              "      <td>2</td>\n",
              "      <td>38.5</td>\n",
              "      <td>162.20</td>\n",
              "      <td>2</td>\n",
              "      <td>5.5</td>\n",
              "      <td>2</td>\n",
              "    </tr>\n",
              "  </tbody>\n",
              "</table>\n",
              "</div>\n",
              "      <button class=\"colab-df-convert\" onclick=\"convertToInteractive('df-3fdf8e24-ff9a-4c0e-95f0-c82ebcd0c63f')\"\n",
              "              title=\"Convert this dataframe to an interactive table.\"\n",
              "              style=\"display:none;\">\n",
              "        \n",
              "  <svg xmlns=\"http://www.w3.org/2000/svg\" height=\"24px\"viewBox=\"0 0 24 24\"\n",
              "       width=\"24px\">\n",
              "    <path d=\"M0 0h24v24H0V0z\" fill=\"none\"/>\n",
              "    <path d=\"M18.56 5.44l.94 2.06.94-2.06 2.06-.94-2.06-.94-.94-2.06-.94 2.06-2.06.94zm-11 1L8.5 8.5l.94-2.06 2.06-.94-2.06-.94L8.5 2.5l-.94 2.06-2.06.94zm10 10l.94 2.06.94-2.06 2.06-.94-2.06-.94-.94-2.06-.94 2.06-2.06.94z\"/><path d=\"M17.41 7.96l-1.37-1.37c-.4-.4-.92-.59-1.43-.59-.52 0-1.04.2-1.43.59L10.3 9.45l-7.72 7.72c-.78.78-.78 2.05 0 2.83L4 21.41c.39.39.9.59 1.41.59.51 0 1.02-.2 1.41-.59l7.78-7.78 2.81-2.81c.8-.78.8-2.07 0-2.86zM5.41 20L4 18.59l7.72-7.72 1.47 1.35L5.41 20z\"/>\n",
              "  </svg>\n",
              "      </button>\n",
              "      \n",
              "  <style>\n",
              "    .colab-df-container {\n",
              "      display:flex;\n",
              "      flex-wrap:wrap;\n",
              "      gap: 12px;\n",
              "    }\n",
              "\n",
              "    .colab-df-convert {\n",
              "      background-color: #E8F0FE;\n",
              "      border: none;\n",
              "      border-radius: 50%;\n",
              "      cursor: pointer;\n",
              "      display: none;\n",
              "      fill: #1967D2;\n",
              "      height: 32px;\n",
              "      padding: 0 0 0 0;\n",
              "      width: 32px;\n",
              "    }\n",
              "\n",
              "    .colab-df-convert:hover {\n",
              "      background-color: #E2EBFA;\n",
              "      box-shadow: 0px 1px 2px rgba(60, 64, 67, 0.3), 0px 1px 3px 1px rgba(60, 64, 67, 0.15);\n",
              "      fill: #174EA6;\n",
              "    }\n",
              "\n",
              "    [theme=dark] .colab-df-convert {\n",
              "      background-color: #3B4455;\n",
              "      fill: #D2E3FC;\n",
              "    }\n",
              "\n",
              "    [theme=dark] .colab-df-convert:hover {\n",
              "      background-color: #434B5C;\n",
              "      box-shadow: 0px 1px 3px 1px rgba(0, 0, 0, 0.15);\n",
              "      filter: drop-shadow(0px 1px 2px rgba(0, 0, 0, 0.3));\n",
              "      fill: #FFFFFF;\n",
              "    }\n",
              "  </style>\n",
              "\n",
              "      <script>\n",
              "        const buttonEl =\n",
              "          document.querySelector('#df-3fdf8e24-ff9a-4c0e-95f0-c82ebcd0c63f button.colab-df-convert');\n",
              "        buttonEl.style.display =\n",
              "          google.colab.kernel.accessAllowed ? 'block' : 'none';\n",
              "\n",
              "        async function convertToInteractive(key) {\n",
              "          const element = document.querySelector('#df-3fdf8e24-ff9a-4c0e-95f0-c82ebcd0c63f');\n",
              "          const dataTable =\n",
              "            await google.colab.kernel.invokeFunction('convertToInteractive',\n",
              "                                                     [key], {});\n",
              "          if (!dataTable) return;\n",
              "\n",
              "          const docLinkHtml = 'Like what you see? Visit the ' +\n",
              "            '<a target=\"_blank\" href=https://colab.research.google.com/notebooks/data_table.ipynb>data table notebook</a>'\n",
              "            + ' to learn more about interactive tables.';\n",
              "          element.innerHTML = '';\n",
              "          dataTable['output_type'] = 'display_data';\n",
              "          await google.colab.output.renderOutput(dataTable, element);\n",
              "          const docLink = document.createElement('div');\n",
              "          docLink.innerHTML = docLinkHtml;\n",
              "          element.appendChild(docLink);\n",
              "        }\n",
              "      </script>\n",
              "    </div>\n",
              "  </div>\n",
              "  "
            ]
          },
          "metadata": {},
          "execution_count": 58
        }
      ]
    },
    {
      "cell_type": "code",
      "metadata": {
        "id": "joxMzcTGjUyh",
        "colab": {
          "base_uri": "https://localhost:8080/"
        },
        "outputId": "f39c64a7-3d58-464a-f46e-06c935af2259"
      },
      "source": [
        "print(rf.predict([[123373, 4, 39.0, 35,\t2,\t36.0,\t167.64,\t2,\t8.5]]))"
      ],
      "execution_count": null,
      "outputs": [
        {
          "output_type": "stream",
          "name": "stdout",
          "text": [
            "[4.]\n"
          ]
        }
      ]
    },
    {
      "cell_type": "code",
      "metadata": {
        "id": "XgPbgQjptLUX"
      },
      "source": [
        "def decode_size(x):\n",
        "  if x==0:\n",
        "    return 'L'\n",
        "  elif x==1:\n",
        "    return 'M'\n",
        "  elif x==2:\n",
        "    return 'S'\n",
        "  elif x==3:\n",
        "    return 'XL'\n",
        "  elif x==4:\n",
        "    return 'XS'\n",
        "  elif x==5:\n",
        "    return 'XXL'"
      ],
      "execution_count": null,
      "outputs": []
    },
    {
      "cell_type": "code",
      "metadata": {
        "id": "De9_ltKsigGv"
      },
      "source": [
        "def prediction(id,cup_size,hips,bra,category,bust,height,fit,shoe_size):\n",
        "  print(\"      Details\")\n",
        "  print()\n",
        "  print(\"Item id   : \",id)\n",
        "  print(\"Cup size  : \",cup_size)\n",
        "  print(\"Hips      : \",hips)\n",
        "  print(\"Bra size  : \",bra)\n",
        "  print(\"Category  : \",category)\n",
        "  print(\"Bust      : \",bust)\n",
        "  print(\"Height    : \",height)\n",
        "  print(\"Fit       : \",fit)\n",
        "  print(\"Shoe size : \",shoe_size)\n",
        "\n",
        "  size = rf.predict([[id,cup_size,hips,bra,category,bust,height,fit,shoe_size]])\n",
        "  decode_size(size)\n",
        "  print()\n",
        "  print(\"Size      : \",decode_size(size))"
      ],
      "execution_count": null,
      "outputs": []
    },
    {
      "cell_type": "code",
      "metadata": {
        "id": "Z5gqGy0LjO0H",
        "colab": {
          "base_uri": "https://localhost:8080/"
        },
        "outputId": "83e9f9cd-121b-475b-92d0-eee495d6c853"
      },
      "source": [
        "prediction(123373, 4, 39.0, 35,\t2,\t36.0,\t167.64,\t2,\t8.5)"
      ],
      "execution_count": null,
      "outputs": [
        {
          "output_type": "stream",
          "name": "stdout",
          "text": [
            "      Details\n",
            "\n",
            "Item id   :  123373\n",
            "Cup size  :  4\n",
            "Hips      :  39.0\n",
            "Bra size  :  35\n",
            "Category  :  2\n",
            "Bust      :  36.0\n",
            "Height    :  167.64\n",
            "Fit       :  2\n",
            "Shoe size :  8.5\n",
            "\n",
            "Size      :  XS\n"
          ]
        }
      ]
    }
  ]
}